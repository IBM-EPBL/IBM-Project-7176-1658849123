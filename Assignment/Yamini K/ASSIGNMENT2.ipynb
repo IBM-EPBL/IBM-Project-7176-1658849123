{
  "cells": [
    {
      "cell_type": "code",
      "execution_count": null,
      "id": "1b6297ce",
      "metadata": {
        "id": "1b6297ce"
      },
      "outputs": [],
      "source": [
        "## import required libraries\n",
        "\n",
        "import pandas as pd\n",
        "import numpy as np\n",
        "import matplotlib.pyplot as plt\n",
        "import seaborn as sns\n",
        "from matplotlib import rcParams"
      ]
    },
    {
      "cell_type": "code",
      "source": [],
      "metadata": {
        "id": "Qud2hMFraUD_"
      },
      "id": "Qud2hMFraUD_",
      "execution_count": null,
      "outputs": []
    },
    {
      "cell_type": "markdown",
      "source": [],
      "metadata": {
        "id": "-4yYBsHZaUeX"
      },
      "id": "-4yYBsHZaUeX"
    },
    {
      "cell_type": "code",
      "source": [],
      "metadata": {
        "id": "CEywNbTNaUzP"
      },
      "id": "CEywNbTNaUzP",
      "execution_count": null,
      "outputs": []
    },
    {
      "cell_type": "code",
      "execution_count": null,
      "id": "b55e298d",
      "metadata": {
        "colab": {
          "base_uri": "https://localhost:8080/",
          "height": 206
        },
        "id": "b55e298d",
        "outputId": "a6382b87-8d2e-46fa-9c83-6507ec5ce681"
      },
      "outputs": [
        {
          "output_type": "execute_result",
          "data": {
            "text/plain": [
              "   RowNumber  CustomerId   Surname  CreditScore Geography  Gender  Age  \\\n",
              "0          1    15634602  Hargrave          619    France  Female   42   \n",
              "1          2    15647311      Hill          608     Spain  Female   41   \n",
              "2          3    15619304      Onio          502    France  Female   42   \n",
              "3          4    15701354      Boni          699    France  Female   39   \n",
              "4          5    15737888  Mitchell          850     Spain  Female   43   \n",
              "\n",
              "   Tenure    Balance  NumOfProducts  HasCrCard  IsActiveMember  \\\n",
              "0       2       0.00              1          1               1   \n",
              "1       1   83807.86              1          0               1   \n",
              "2       8  159660.80              3          1               0   \n",
              "3       1       0.00              2          0               0   \n",
              "4       2  125510.82              1          1               1   \n",
              "\n",
              "   EstimatedSalary  Exited  \n",
              "0        101348.88       1  \n",
              "1        112542.58       0  \n",
              "2        113931.57       1  \n",
              "3         93826.63       0  \n",
              "4         79084.10       0  "
            ],
            "text/html": [
              "\n",
              "  <div id=\"df-7ead738f-fb1d-40d8-8869-3430d31717d9\">\n",
              "    <div class=\"colab-df-container\">\n",
              "      <div>\n",
              "<style scoped>\n",
              "    .dataframe tbody tr th:only-of-type {\n",
              "        vertical-align: middle;\n",
              "    }\n",
              "\n",
              "    .dataframe tbody tr th {\n",
              "        vertical-align: top;\n",
              "    }\n",
              "\n",
              "    .dataframe thead th {\n",
              "        text-align: right;\n",
              "    }\n",
              "</style>\n",
              "<table border=\"1\" class=\"dataframe\">\n",
              "  <thead>\n",
              "    <tr style=\"text-align: right;\">\n",
              "      <th></th>\n",
              "      <th>RowNumber</th>\n",
              "      <th>CustomerId</th>\n",
              "      <th>Surname</th>\n",
              "      <th>CreditScore</th>\n",
              "      <th>Geography</th>\n",
              "      <th>Gender</th>\n",
              "      <th>Age</th>\n",
              "      <th>Tenure</th>\n",
              "      <th>Balance</th>\n",
              "      <th>NumOfProducts</th>\n",
              "      <th>HasCrCard</th>\n",
              "      <th>IsActiveMember</th>\n",
              "      <th>EstimatedSalary</th>\n",
              "      <th>Exited</th>\n",
              "    </tr>\n",
              "  </thead>\n",
              "  <tbody>\n",
              "    <tr>\n",
              "      <th>0</th>\n",
              "      <td>1</td>\n",
              "      <td>15634602</td>\n",
              "      <td>Hargrave</td>\n",
              "      <td>619</td>\n",
              "      <td>France</td>\n",
              "      <td>Female</td>\n",
              "      <td>42</td>\n",
              "      <td>2</td>\n",
              "      <td>0.00</td>\n",
              "      <td>1</td>\n",
              "      <td>1</td>\n",
              "      <td>1</td>\n",
              "      <td>101348.88</td>\n",
              "      <td>1</td>\n",
              "    </tr>\n",
              "    <tr>\n",
              "      <th>1</th>\n",
              "      <td>2</td>\n",
              "      <td>15647311</td>\n",
              "      <td>Hill</td>\n",
              "      <td>608</td>\n",
              "      <td>Spain</td>\n",
              "      <td>Female</td>\n",
              "      <td>41</td>\n",
              "      <td>1</td>\n",
              "      <td>83807.86</td>\n",
              "      <td>1</td>\n",
              "      <td>0</td>\n",
              "      <td>1</td>\n",
              "      <td>112542.58</td>\n",
              "      <td>0</td>\n",
              "    </tr>\n",
              "    <tr>\n",
              "      <th>2</th>\n",
              "      <td>3</td>\n",
              "      <td>15619304</td>\n",
              "      <td>Onio</td>\n",
              "      <td>502</td>\n",
              "      <td>France</td>\n",
              "      <td>Female</td>\n",
              "      <td>42</td>\n",
              "      <td>8</td>\n",
              "      <td>159660.80</td>\n",
              "      <td>3</td>\n",
              "      <td>1</td>\n",
              "      <td>0</td>\n",
              "      <td>113931.57</td>\n",
              "      <td>1</td>\n",
              "    </tr>\n",
              "    <tr>\n",
              "      <th>3</th>\n",
              "      <td>4</td>\n",
              "      <td>15701354</td>\n",
              "      <td>Boni</td>\n",
              "      <td>699</td>\n",
              "      <td>France</td>\n",
              "      <td>Female</td>\n",
              "      <td>39</td>\n",
              "      <td>1</td>\n",
              "      <td>0.00</td>\n",
              "      <td>2</td>\n",
              "      <td>0</td>\n",
              "      <td>0</td>\n",
              "      <td>93826.63</td>\n",
              "      <td>0</td>\n",
              "    </tr>\n",
              "    <tr>\n",
              "      <th>4</th>\n",
              "      <td>5</td>\n",
              "      <td>15737888</td>\n",
              "      <td>Mitchell</td>\n",
              "      <td>850</td>\n",
              "      <td>Spain</td>\n",
              "      <td>Female</td>\n",
              "      <td>43</td>\n",
              "      <td>2</td>\n",
              "      <td>125510.82</td>\n",
              "      <td>1</td>\n",
              "      <td>1</td>\n",
              "      <td>1</td>\n",
              "      <td>79084.10</td>\n",
              "      <td>0</td>\n",
              "    </tr>\n",
              "  </tbody>\n",
              "</table>\n",
              "</div>\n",
              "      <button class=\"colab-df-convert\" onclick=\"convertToInteractive('df-7ead738f-fb1d-40d8-8869-3430d31717d9')\"\n",
              "              title=\"Convert this dataframe to an interactive table.\"\n",
              "              style=\"display:none;\">\n",
              "        \n",
              "  <svg xmlns=\"http://www.w3.org/2000/svg\" height=\"24px\"viewBox=\"0 0 24 24\"\n",
              "       width=\"24px\">\n",
              "    <path d=\"M0 0h24v24H0V0z\" fill=\"none\"/>\n",
              "    <path d=\"M18.56 5.44l.94 2.06.94-2.06 2.06-.94-2.06-.94-.94-2.06-.94 2.06-2.06.94zm-11 1L8.5 8.5l.94-2.06 2.06-.94-2.06-.94L8.5 2.5l-.94 2.06-2.06.94zm10 10l.94 2.06.94-2.06 2.06-.94-2.06-.94-.94-2.06-.94 2.06-2.06.94z\"/><path d=\"M17.41 7.96l-1.37-1.37c-.4-.4-.92-.59-1.43-.59-.52 0-1.04.2-1.43.59L10.3 9.45l-7.72 7.72c-.78.78-.78 2.05 0 2.83L4 21.41c.39.39.9.59 1.41.59.51 0 1.02-.2 1.41-.59l7.78-7.78 2.81-2.81c.8-.78.8-2.07 0-2.86zM5.41 20L4 18.59l7.72-7.72 1.47 1.35L5.41 20z\"/>\n",
              "  </svg>\n",
              "      </button>\n",
              "      \n",
              "  <style>\n",
              "    .colab-df-container {\n",
              "      display:flex;\n",
              "      flex-wrap:wrap;\n",
              "      gap: 12px;\n",
              "    }\n",
              "\n",
              "    .colab-df-convert {\n",
              "      background-color: #E8F0FE;\n",
              "      border: none;\n",
              "      border-radius: 50%;\n",
              "      cursor: pointer;\n",
              "      display: none;\n",
              "      fill: #1967D2;\n",
              "      height: 32px;\n",
              "      padding: 0 0 0 0;\n",
              "      width: 32px;\n",
              "    }\n",
              "\n",
              "    .colab-df-convert:hover {\n",
              "      background-color: #E2EBFA;\n",
              "      box-shadow: 0px 1px 2px rgba(60, 64, 67, 0.3), 0px 1px 3px 1px rgba(60, 64, 67, 0.15);\n",
              "      fill: #174EA6;\n",
              "    }\n",
              "\n",
              "    [theme=dark] .colab-df-convert {\n",
              "      background-color: #3B4455;\n",
              "      fill: #D2E3FC;\n",
              "    }\n",
              "\n",
              "    [theme=dark] .colab-df-convert:hover {\n",
              "      background-color: #434B5C;\n",
              "      box-shadow: 0px 1px 3px 1px rgba(0, 0, 0, 0.15);\n",
              "      filter: drop-shadow(0px 1px 2px rgba(0, 0, 0, 0.3));\n",
              "      fill: #FFFFFF;\n",
              "    }\n",
              "  </style>\n",
              "\n",
              "      <script>\n",
              "        const buttonEl =\n",
              "          document.querySelector('#df-7ead738f-fb1d-40d8-8869-3430d31717d9 button.colab-df-convert');\n",
              "        buttonEl.style.display =\n",
              "          google.colab.kernel.accessAllowed ? 'block' : 'none';\n",
              "\n",
              "        async function convertToInteractive(key) {\n",
              "          const element = document.querySelector('#df-7ead738f-fb1d-40d8-8869-3430d31717d9');\n",
              "          const dataTable =\n",
              "            await google.colab.kernel.invokeFunction('convertToInteractive',\n",
              "                                                     [key], {});\n",
              "          if (!dataTable) return;\n",
              "\n",
              "          const docLinkHtml = 'Like what you see? Visit the ' +\n",
              "            '<a target=\"_blank\" href=https://colab.research.google.com/notebooks/data_table.ipynb>data table notebook</a>'\n",
              "            + ' to learn more about interactive tables.';\n",
              "          element.innerHTML = '';\n",
              "          dataTable['output_type'] = 'display_data';\n",
              "          await google.colab.output.renderOutput(dataTable, element);\n",
              "          const docLink = document.createElement('div');\n",
              "          docLink.innerHTML = docLinkHtml;\n",
              "          element.appendChild(docLink);\n",
              "        }\n",
              "      </script>\n",
              "    </div>\n",
              "  </div>\n",
              "  "
            ]
          },
          "metadata": {},
          "execution_count": 6
        }
      ],
      "source": [
        "##2.Load the dataset.\n",
        "\n",
        "df=pd.read_csv('Churn_Modelling.csv')\n",
        "df.head()"
      ]
    },
    {
      "cell_type": "code",
      "execution_count": null,
      "id": "83cd94c8",
      "metadata": {
        "id": "83cd94c8",
        "outputId": "ddf5a9d8-baac-4a19-f967-94245a9925f7",
        "colab": {
          "base_uri": "https://localhost:8080/"
        }
      },
      "outputs": [
        {
          "output_type": "execute_result",
          "data": {
            "text/plain": [
              "(10000, 14)"
            ]
          },
          "metadata": {},
          "execution_count": 24
        }
      ],
      "source": [
        "df.shape"
      ]
    },
    {
      "cell_type": "code",
      "execution_count": null,
      "id": "9890e73b",
      "metadata": {
        "id": "9890e73b",
        "outputId": "f3716aa8-97b3-4df8-a900-165df0902bdf",
        "colab": {
          "base_uri": "https://localhost:8080/"
        }
      },
      "outputs": [
        {
          "output_type": "stream",
          "name": "stdout",
          "text": [
            "<class 'pandas.core.frame.DataFrame'>\n",
            "RangeIndex: 10000 entries, 0 to 9999\n",
            "Data columns (total 14 columns):\n",
            " #   Column           Non-Null Count  Dtype  \n",
            "---  ------           --------------  -----  \n",
            " 0   RowNumber        10000 non-null  int64  \n",
            " 1   CustomerId       10000 non-null  int64  \n",
            " 2   Surname          10000 non-null  object \n",
            " 3   CreditScore      10000 non-null  int64  \n",
            " 4   Geography        10000 non-null  object \n",
            " 5   Gender           10000 non-null  object \n",
            " 6   Age              10000 non-null  int64  \n",
            " 7   Tenure           10000 non-null  int64  \n",
            " 8   Balance          10000 non-null  float64\n",
            " 9   NumOfProducts    10000 non-null  int64  \n",
            " 10  HasCrCard        10000 non-null  int64  \n",
            " 11  IsActiveMember   10000 non-null  int64  \n",
            " 12  EstimatedSalary  10000 non-null  float64\n",
            " 13  Exited           10000 non-null  int64  \n",
            "dtypes: float64(2), int64(9), object(3)\n",
            "memory usage: 1.1+ MB\n"
          ]
        }
      ],
      "source": [
        "df.info()"
      ]
    },
    {
      "cell_type": "code",
      "execution_count": null,
      "id": "3dbc4229",
      "metadata": {
        "id": "3dbc4229",
        "outputId": "9e0ce317-a0e3-438c-d9af-61cdc9fde17f",
        "colab": {
          "base_uri": "https://localhost:8080/"
        }
      },
      "outputs": [
        {
          "output_type": "execute_result",
          "data": {
            "text/plain": [
              "RowNumber          False\n",
              "CustomerId         False\n",
              "Surname            False\n",
              "CreditScore        False\n",
              "Geography          False\n",
              "Gender             False\n",
              "Age                False\n",
              "Tenure             False\n",
              "Balance            False\n",
              "NumOfProducts      False\n",
              "HasCrCard          False\n",
              "IsActiveMember     False\n",
              "EstimatedSalary    False\n",
              "Exited             False\n",
              "dtype: bool"
            ]
          },
          "metadata": {},
          "execution_count": 26
        }
      ],
      "source": [
        "df.isnull().any()"
      ]
    },
    {
      "cell_type": "code",
      "execution_count": null,
      "id": "d2a0e5b3",
      "metadata": {
        "id": "d2a0e5b3",
        "outputId": "314bfafb-88da-41f9-e83f-a8db55f80eef",
        "colab": {
          "base_uri": "https://localhost:8080/"
        }
      },
      "outputs": [
        {
          "output_type": "execute_result",
          "data": {
            "text/plain": [
              "Male      5457\n",
              "Female    4543\n",
              "Name: Gender, dtype: int64"
            ]
          },
          "metadata": {},
          "execution_count": 27
        }
      ],
      "source": [
        "df.Gender.value_counts()"
      ]
    },
    {
      "cell_type": "code",
      "execution_count": null,
      "id": "319edd54",
      "metadata": {
        "id": "319edd54",
        "outputId": "d21e294b-5d96-4118-c782-624c869bc41a",
        "colab": {
          "base_uri": "https://localhost:8080/",
          "height": 300
        }
      },
      "outputs": [
        {
          "output_type": "execute_result",
          "data": {
            "text/plain": [
              "         RowNumber    CustomerId   CreditScore           Age        Tenure  \\\n",
              "count  10000.00000  1.000000e+04  10000.000000  10000.000000  10000.000000   \n",
              "mean    5000.50000  1.569094e+07    650.528800     38.921800      5.012800   \n",
              "std     2886.89568  7.193619e+04     96.653299     10.487806      2.892174   \n",
              "min        1.00000  1.556570e+07    350.000000     18.000000      0.000000   \n",
              "25%     2500.75000  1.562853e+07    584.000000     32.000000      3.000000   \n",
              "50%     5000.50000  1.569074e+07    652.000000     37.000000      5.000000   \n",
              "75%     7500.25000  1.575323e+07    718.000000     44.000000      7.000000   \n",
              "max    10000.00000  1.581569e+07    850.000000     92.000000     10.000000   \n",
              "\n",
              "             Balance  NumOfProducts    HasCrCard  IsActiveMember  \\\n",
              "count   10000.000000   10000.000000  10000.00000    10000.000000   \n",
              "mean    76485.889288       1.530200      0.70550        0.515100   \n",
              "std     62397.405202       0.581654      0.45584        0.499797   \n",
              "min         0.000000       1.000000      0.00000        0.000000   \n",
              "25%         0.000000       1.000000      0.00000        0.000000   \n",
              "50%     97198.540000       1.000000      1.00000        1.000000   \n",
              "75%    127644.240000       2.000000      1.00000        1.000000   \n",
              "max    250898.090000       4.000000      1.00000        1.000000   \n",
              "\n",
              "       EstimatedSalary        Exited  \n",
              "count     10000.000000  10000.000000  \n",
              "mean     100090.239881      0.203700  \n",
              "std       57510.492818      0.402769  \n",
              "min          11.580000      0.000000  \n",
              "25%       51002.110000      0.000000  \n",
              "50%      100193.915000      0.000000  \n",
              "75%      149388.247500      0.000000  \n",
              "max      199992.480000      1.000000  "
            ],
            "text/html": [
              "\n",
              "  <div id=\"df-e73e0a10-e14f-40bb-a5e2-fbea68c26cf6\">\n",
              "    <div class=\"colab-df-container\">\n",
              "      <div>\n",
              "<style scoped>\n",
              "    .dataframe tbody tr th:only-of-type {\n",
              "        vertical-align: middle;\n",
              "    }\n",
              "\n",
              "    .dataframe tbody tr th {\n",
              "        vertical-align: top;\n",
              "    }\n",
              "\n",
              "    .dataframe thead th {\n",
              "        text-align: right;\n",
              "    }\n",
              "</style>\n",
              "<table border=\"1\" class=\"dataframe\">\n",
              "  <thead>\n",
              "    <tr style=\"text-align: right;\">\n",
              "      <th></th>\n",
              "      <th>RowNumber</th>\n",
              "      <th>CustomerId</th>\n",
              "      <th>CreditScore</th>\n",
              "      <th>Age</th>\n",
              "      <th>Tenure</th>\n",
              "      <th>Balance</th>\n",
              "      <th>NumOfProducts</th>\n",
              "      <th>HasCrCard</th>\n",
              "      <th>IsActiveMember</th>\n",
              "      <th>EstimatedSalary</th>\n",
              "      <th>Exited</th>\n",
              "    </tr>\n",
              "  </thead>\n",
              "  <tbody>\n",
              "    <tr>\n",
              "      <th>count</th>\n",
              "      <td>10000.00000</td>\n",
              "      <td>1.000000e+04</td>\n",
              "      <td>10000.000000</td>\n",
              "      <td>10000.000000</td>\n",
              "      <td>10000.000000</td>\n",
              "      <td>10000.000000</td>\n",
              "      <td>10000.000000</td>\n",
              "      <td>10000.00000</td>\n",
              "      <td>10000.000000</td>\n",
              "      <td>10000.000000</td>\n",
              "      <td>10000.000000</td>\n",
              "    </tr>\n",
              "    <tr>\n",
              "      <th>mean</th>\n",
              "      <td>5000.50000</td>\n",
              "      <td>1.569094e+07</td>\n",
              "      <td>650.528800</td>\n",
              "      <td>38.921800</td>\n",
              "      <td>5.012800</td>\n",
              "      <td>76485.889288</td>\n",
              "      <td>1.530200</td>\n",
              "      <td>0.70550</td>\n",
              "      <td>0.515100</td>\n",
              "      <td>100090.239881</td>\n",
              "      <td>0.203700</td>\n",
              "    </tr>\n",
              "    <tr>\n",
              "      <th>std</th>\n",
              "      <td>2886.89568</td>\n",
              "      <td>7.193619e+04</td>\n",
              "      <td>96.653299</td>\n",
              "      <td>10.487806</td>\n",
              "      <td>2.892174</td>\n",
              "      <td>62397.405202</td>\n",
              "      <td>0.581654</td>\n",
              "      <td>0.45584</td>\n",
              "      <td>0.499797</td>\n",
              "      <td>57510.492818</td>\n",
              "      <td>0.402769</td>\n",
              "    </tr>\n",
              "    <tr>\n",
              "      <th>min</th>\n",
              "      <td>1.00000</td>\n",
              "      <td>1.556570e+07</td>\n",
              "      <td>350.000000</td>\n",
              "      <td>18.000000</td>\n",
              "      <td>0.000000</td>\n",
              "      <td>0.000000</td>\n",
              "      <td>1.000000</td>\n",
              "      <td>0.00000</td>\n",
              "      <td>0.000000</td>\n",
              "      <td>11.580000</td>\n",
              "      <td>0.000000</td>\n",
              "    </tr>\n",
              "    <tr>\n",
              "      <th>25%</th>\n",
              "      <td>2500.75000</td>\n",
              "      <td>1.562853e+07</td>\n",
              "      <td>584.000000</td>\n",
              "      <td>32.000000</td>\n",
              "      <td>3.000000</td>\n",
              "      <td>0.000000</td>\n",
              "      <td>1.000000</td>\n",
              "      <td>0.00000</td>\n",
              "      <td>0.000000</td>\n",
              "      <td>51002.110000</td>\n",
              "      <td>0.000000</td>\n",
              "    </tr>\n",
              "    <tr>\n",
              "      <th>50%</th>\n",
              "      <td>5000.50000</td>\n",
              "      <td>1.569074e+07</td>\n",
              "      <td>652.000000</td>\n",
              "      <td>37.000000</td>\n",
              "      <td>5.000000</td>\n",
              "      <td>97198.540000</td>\n",
              "      <td>1.000000</td>\n",
              "      <td>1.00000</td>\n",
              "      <td>1.000000</td>\n",
              "      <td>100193.915000</td>\n",
              "      <td>0.000000</td>\n",
              "    </tr>\n",
              "    <tr>\n",
              "      <th>75%</th>\n",
              "      <td>7500.25000</td>\n",
              "      <td>1.575323e+07</td>\n",
              "      <td>718.000000</td>\n",
              "      <td>44.000000</td>\n",
              "      <td>7.000000</td>\n",
              "      <td>127644.240000</td>\n",
              "      <td>2.000000</td>\n",
              "      <td>1.00000</td>\n",
              "      <td>1.000000</td>\n",
              "      <td>149388.247500</td>\n",
              "      <td>0.000000</td>\n",
              "    </tr>\n",
              "    <tr>\n",
              "      <th>max</th>\n",
              "      <td>10000.00000</td>\n",
              "      <td>1.581569e+07</td>\n",
              "      <td>850.000000</td>\n",
              "      <td>92.000000</td>\n",
              "      <td>10.000000</td>\n",
              "      <td>250898.090000</td>\n",
              "      <td>4.000000</td>\n",
              "      <td>1.00000</td>\n",
              "      <td>1.000000</td>\n",
              "      <td>199992.480000</td>\n",
              "      <td>1.000000</td>\n",
              "    </tr>\n",
              "  </tbody>\n",
              "</table>\n",
              "</div>\n",
              "      <button class=\"colab-df-convert\" onclick=\"convertToInteractive('df-e73e0a10-e14f-40bb-a5e2-fbea68c26cf6')\"\n",
              "              title=\"Convert this dataframe to an interactive table.\"\n",
              "              style=\"display:none;\">\n",
              "        \n",
              "  <svg xmlns=\"http://www.w3.org/2000/svg\" height=\"24px\"viewBox=\"0 0 24 24\"\n",
              "       width=\"24px\">\n",
              "    <path d=\"M0 0h24v24H0V0z\" fill=\"none\"/>\n",
              "    <path d=\"M18.56 5.44l.94 2.06.94-2.06 2.06-.94-2.06-.94-.94-2.06-.94 2.06-2.06.94zm-11 1L8.5 8.5l.94-2.06 2.06-.94-2.06-.94L8.5 2.5l-.94 2.06-2.06.94zm10 10l.94 2.06.94-2.06 2.06-.94-2.06-.94-.94-2.06-.94 2.06-2.06.94z\"/><path d=\"M17.41 7.96l-1.37-1.37c-.4-.4-.92-.59-1.43-.59-.52 0-1.04.2-1.43.59L10.3 9.45l-7.72 7.72c-.78.78-.78 2.05 0 2.83L4 21.41c.39.39.9.59 1.41.59.51 0 1.02-.2 1.41-.59l7.78-7.78 2.81-2.81c.8-.78.8-2.07 0-2.86zM5.41 20L4 18.59l7.72-7.72 1.47 1.35L5.41 20z\"/>\n",
              "  </svg>\n",
              "      </button>\n",
              "      \n",
              "  <style>\n",
              "    .colab-df-container {\n",
              "      display:flex;\n",
              "      flex-wrap:wrap;\n",
              "      gap: 12px;\n",
              "    }\n",
              "\n",
              "    .colab-df-convert {\n",
              "      background-color: #E8F0FE;\n",
              "      border: none;\n",
              "      border-radius: 50%;\n",
              "      cursor: pointer;\n",
              "      display: none;\n",
              "      fill: #1967D2;\n",
              "      height: 32px;\n",
              "      padding: 0 0 0 0;\n",
              "      width: 32px;\n",
              "    }\n",
              "\n",
              "    .colab-df-convert:hover {\n",
              "      background-color: #E2EBFA;\n",
              "      box-shadow: 0px 1px 2px rgba(60, 64, 67, 0.3), 0px 1px 3px 1px rgba(60, 64, 67, 0.15);\n",
              "      fill: #174EA6;\n",
              "    }\n",
              "\n",
              "    [theme=dark] .colab-df-convert {\n",
              "      background-color: #3B4455;\n",
              "      fill: #D2E3FC;\n",
              "    }\n",
              "\n",
              "    [theme=dark] .colab-df-convert:hover {\n",
              "      background-color: #434B5C;\n",
              "      box-shadow: 0px 1px 3px 1px rgba(0, 0, 0, 0.15);\n",
              "      filter: drop-shadow(0px 1px 2px rgba(0, 0, 0, 0.3));\n",
              "      fill: #FFFFFF;\n",
              "    }\n",
              "  </style>\n",
              "\n",
              "      <script>\n",
              "        const buttonEl =\n",
              "          document.querySelector('#df-e73e0a10-e14f-40bb-a5e2-fbea68c26cf6 button.colab-df-convert');\n",
              "        buttonEl.style.display =\n",
              "          google.colab.kernel.accessAllowed ? 'block' : 'none';\n",
              "\n",
              "        async function convertToInteractive(key) {\n",
              "          const element = document.querySelector('#df-e73e0a10-e14f-40bb-a5e2-fbea68c26cf6');\n",
              "          const dataTable =\n",
              "            await google.colab.kernel.invokeFunction('convertToInteractive',\n",
              "                                                     [key], {});\n",
              "          if (!dataTable) return;\n",
              "\n",
              "          const docLinkHtml = 'Like what you see? Visit the ' +\n",
              "            '<a target=\"_blank\" href=https://colab.research.google.com/notebooks/data_table.ipynb>data table notebook</a>'\n",
              "            + ' to learn more about interactive tables.';\n",
              "          element.innerHTML = '';\n",
              "          dataTable['output_type'] = 'display_data';\n",
              "          await google.colab.output.renderOutput(dataTable, element);\n",
              "          const docLink = document.createElement('div');\n",
              "          docLink.innerHTML = docLinkHtml;\n",
              "          element.appendChild(docLink);\n",
              "        }\n",
              "      </script>\n",
              "    </div>\n",
              "  </div>\n",
              "  "
            ]
          },
          "metadata": {},
          "execution_count": 28
        }
      ],
      "source": [
        "df.describe()"
      ]
    },
    {
      "cell_type": "code",
      "source": [
        "#3. Perform Below Visualizations.\n",
        "#● Univariate Analysis\n",
        "#● Bi - Variate Analysis\n",
        "#● Multi - Variate Analysis"
      ],
      "metadata": {
        "id": "SN4AD5KLg0mn"
      },
      "id": "SN4AD5KLg0mn",
      "execution_count": null,
      "outputs": []
    },
    {
      "cell_type": "code",
      "execution_count": null,
      "id": "485f547f",
      "metadata": {
        "id": "485f547f",
        "outputId": "fec388a5-2d55-4662-93d2-c72bbd7ffe1c",
        "colab": {
          "base_uri": "https://localhost:8080/",
          "height": 374
        }
      },
      "outputs": [
        {
          "output_type": "execute_result",
          "data": {
            "text/plain": [
              "   index  Exited\n",
              "0      0  0.7963\n",
              "1      1  0.2037"
            ],
            "text/html": [
              "\n",
              "  <div id=\"df-dcb5ed47-f8d8-4cfb-9963-dee05861e0ff\">\n",
              "    <div class=\"colab-df-container\">\n",
              "      <div>\n",
              "<style scoped>\n",
              "    .dataframe tbody tr th:only-of-type {\n",
              "        vertical-align: middle;\n",
              "    }\n",
              "\n",
              "    .dataframe tbody tr th {\n",
              "        vertical-align: top;\n",
              "    }\n",
              "\n",
              "    .dataframe thead th {\n",
              "        text-align: right;\n",
              "    }\n",
              "</style>\n",
              "<table border=\"1\" class=\"dataframe\">\n",
              "  <thead>\n",
              "    <tr style=\"text-align: right;\">\n",
              "      <th></th>\n",
              "      <th>index</th>\n",
              "      <th>Exited</th>\n",
              "    </tr>\n",
              "  </thead>\n",
              "  <tbody>\n",
              "    <tr>\n",
              "      <th>0</th>\n",
              "      <td>0</td>\n",
              "      <td>0.7963</td>\n",
              "    </tr>\n",
              "    <tr>\n",
              "      <th>1</th>\n",
              "      <td>1</td>\n",
              "      <td>0.2037</td>\n",
              "    </tr>\n",
              "  </tbody>\n",
              "</table>\n",
              "</div>\n",
              "      <button class=\"colab-df-convert\" onclick=\"convertToInteractive('df-dcb5ed47-f8d8-4cfb-9963-dee05861e0ff')\"\n",
              "              title=\"Convert this dataframe to an interactive table.\"\n",
              "              style=\"display:none;\">\n",
              "        \n",
              "  <svg xmlns=\"http://www.w3.org/2000/svg\" height=\"24px\"viewBox=\"0 0 24 24\"\n",
              "       width=\"24px\">\n",
              "    <path d=\"M0 0h24v24H0V0z\" fill=\"none\"/>\n",
              "    <path d=\"M18.56 5.44l.94 2.06.94-2.06 2.06-.94-2.06-.94-.94-2.06-.94 2.06-2.06.94zm-11 1L8.5 8.5l.94-2.06 2.06-.94-2.06-.94L8.5 2.5l-.94 2.06-2.06.94zm10 10l.94 2.06.94-2.06 2.06-.94-2.06-.94-.94-2.06-.94 2.06-2.06.94z\"/><path d=\"M17.41 7.96l-1.37-1.37c-.4-.4-.92-.59-1.43-.59-.52 0-1.04.2-1.43.59L10.3 9.45l-7.72 7.72c-.78.78-.78 2.05 0 2.83L4 21.41c.39.39.9.59 1.41.59.51 0 1.02-.2 1.41-.59l7.78-7.78 2.81-2.81c.8-.78.8-2.07 0-2.86zM5.41 20L4 18.59l7.72-7.72 1.47 1.35L5.41 20z\"/>\n",
              "  </svg>\n",
              "      </button>\n",
              "      \n",
              "  <style>\n",
              "    .colab-df-container {\n",
              "      display:flex;\n",
              "      flex-wrap:wrap;\n",
              "      gap: 12px;\n",
              "    }\n",
              "\n",
              "    .colab-df-convert {\n",
              "      background-color: #E8F0FE;\n",
              "      border: none;\n",
              "      border-radius: 50%;\n",
              "      cursor: pointer;\n",
              "      display: none;\n",
              "      fill: #1967D2;\n",
              "      height: 32px;\n",
              "      padding: 0 0 0 0;\n",
              "      width: 32px;\n",
              "    }\n",
              "\n",
              "    .colab-df-convert:hover {\n",
              "      background-color: #E2EBFA;\n",
              "      box-shadow: 0px 1px 2px rgba(60, 64, 67, 0.3), 0px 1px 3px 1px rgba(60, 64, 67, 0.15);\n",
              "      fill: #174EA6;\n",
              "    }\n",
              "\n",
              "    [theme=dark] .colab-df-convert {\n",
              "      background-color: #3B4455;\n",
              "      fill: #D2E3FC;\n",
              "    }\n",
              "\n",
              "    [theme=dark] .colab-df-convert:hover {\n",
              "      background-color: #434B5C;\n",
              "      box-shadow: 0px 1px 3px 1px rgba(0, 0, 0, 0.15);\n",
              "      filter: drop-shadow(0px 1px 2px rgba(0, 0, 0, 0.3));\n",
              "      fill: #FFFFFF;\n",
              "    }\n",
              "  </style>\n",
              "\n",
              "      <script>\n",
              "        const buttonEl =\n",
              "          document.querySelector('#df-dcb5ed47-f8d8-4cfb-9963-dee05861e0ff button.colab-df-convert');\n",
              "        buttonEl.style.display =\n",
              "          google.colab.kernel.accessAllowed ? 'block' : 'none';\n",
              "\n",
              "        async function convertToInteractive(key) {\n",
              "          const element = document.querySelector('#df-dcb5ed47-f8d8-4cfb-9963-dee05861e0ff');\n",
              "          const dataTable =\n",
              "            await google.colab.kernel.invokeFunction('convertToInteractive',\n",
              "                                                     [key], {});\n",
              "          if (!dataTable) return;\n",
              "\n",
              "          const docLinkHtml = 'Like what you see? Visit the ' +\n",
              "            '<a target=\"_blank\" href=https://colab.research.google.com/notebooks/data_table.ipynb>data table notebook</a>'\n",
              "            + ' to learn more about interactive tables.';\n",
              "          element.innerHTML = '';\n",
              "          dataTable['output_type'] = 'display_data';\n",
              "          await google.colab.output.renderOutput(dataTable, element);\n",
              "          const docLink = document.createElement('div');\n",
              "          docLink.innerHTML = docLinkHtml;\n",
              "          element.appendChild(docLink);\n",
              "        }\n",
              "      </script>\n",
              "    </div>\n",
              "  </div>\n",
              "  "
            ]
          },
          "metadata": {},
          "execution_count": 30
        },
        {
          "output_type": "display_data",
          "data": {
            "text/plain": [
              "<Figure size 432x288 with 1 Axes>"
            ],
            "image/png": "[encoded data removed]"
          },
          "metadata": {
            "needs_background": "light"
          }
        }
      ],
      "source": [
        "import seaborn as sns\n",
        "density = df['Exited'].value_counts(normalize=True).reset_index()\n",
        "sns.barplot(data=density, x='index', y='Exited', );\n",
        "density"
      ]
    },
    {
      "cell_type": "code",
      "source": [
        "#the data is significantly imbalanced\n",
        "import matplotlib.pyplot as plt\n",
        "categorical = df.drop(columns=['CreditScore', 'Age', 'Tenure', 'Balance', 'EstimatedSalary'])\n",
        "rows = int(np.ceil(categorical.shape[1] / 2)) - 1\n"
      ],
      "metadata": {
        "id": "KHYalugNo6bX"
      },
      "id": "KHYalugNo6bX",
      "execution_count": null,
      "outputs": []
    },
    {
      "cell_type": "code",
      "source": [
        "# create sub-plots anf title them\n",
        "fig, axes = plt.subplots(nrows=rows, ncols=2, figsize=(10,6))\n",
        "axes = axes.flatten()\n",
        "\n",
        "for row in range(rows):\n",
        "    cols = min(2, categorical.shape[1] - row*2)\n",
        "    for col in range(cols):\n",
        "        col_name = categorical.columns[2 * row + col]\n",
        "        ax = axes[row*2 + col]       \n",
        "\n",
        "        sns.countplot(data=categorical, x=col_name, hue=\"Exited\", ax=ax);\n",
        "        \n",
        "plt.tight_layout()"
      ],
      "metadata": {
        "colab": {
          "base_uri": "https://localhost:8080/",
          "height": 442
        },
        "id": "_RcqRJglpaUH",
        "outputId": "4b478d29-ba85-4280-e242-663b8d270753"
      },
      "id": "_RcqRJglpaUH",
      "execution_count": null,
      "outputs": [
        {
          "output_type": "display_data",
          "data": {
            "text/plain": [
              "<Figure size 720x432 with 8 Axes>"
            ],
            "image/png": "[encoded data removed]"
          },
          "metadata": {
            "needs_background": "light"
          }
        }
      ]
    },
    {
      "cell_type": "code",
      "source": [
        "#4. Perform descriptive statistics on the dataset.\n",
        "df.info()"
      ],
      "metadata": {
        "colab": {
          "base_uri": "https://localhost:8080/"
        },
        "id": "9_amiTbTo24v",
        "outputId": "3a7c19bc-938e-490c-8141-761eee05d1a7"
      },
      "id": "9_amiTbTo24v",
      "execution_count": null,
      "outputs": [
        {
          "output_type": "stream",
          "name": "stdout",
          "text": [
            "<class 'pandas.core.frame.DataFrame'>\n",
            "RangeIndex: 10000 entries, 0 to 9999\n",
            "Data columns (total 14 columns):\n",
            " #   Column           Non-Null Count  Dtype  \n",
            "---  ------           --------------  -----  \n",
            " 0   RowNumber        10000 non-null  int64  \n",
            " 1   CustomerId       10000 non-null  int64  \n",
            " 2   Surname          10000 non-null  object \n",
            " 3   CreditScore      10000 non-null  int64  \n",
            " 4   Geography        10000 non-null  object \n",
            " 5   Gender           10000 non-null  object \n",
            " 6   Age              10000 non-null  int64  \n",
            " 7   Tenure           10000 non-null  int64  \n",
            " 8   Balance          10000 non-null  float64\n",
            " 9   NumOfProducts    10000 non-null  int64  \n",
            " 10  HasCrCard        10000 non-null  int64  \n",
            " 11  IsActiveMember   10000 non-null  int64  \n",
            " 12  EstimatedSalary  10000 non-null  float64\n",
            " 13  Exited           10000 non-null  int64  \n",
            "dtypes: float64(2), int64(9), object(3)\n",
            "memory usage: 1.1+ MB\n"
          ]
        }
      ]
    },
    {
      "cell_type": "code",
      "source": [
        "df.describe()"
      ],
      "metadata": {
        "colab": {
          "base_uri": "https://localhost:8080/",
          "height": 300
        },
        "id": "HDI0WyrApsmP",
        "outputId": "c446b7e2-efb7-4b46-cb26-ee08866d086c"
      },
      "id": "HDI0WyrApsmP",
      "execution_count": null,
      "outputs": [
        {
          "output_type": "execute_result",
          "data": {
            "text/plain": [
              "         RowNumber    CustomerId   CreditScore           Age        Tenure  \\\n",
              "count  10000.00000  1.000000e+04  10000.000000  10000.000000  10000.000000   \n",
              "mean    5000.50000  1.569094e+07    650.528800     38.921800      5.012800   \n",
              "std     2886.89568  7.193619e+04     96.653299     10.487806      2.892174   \n",
              "min        1.00000  1.556570e+07    350.000000     18.000000      0.000000   \n",
              "25%     2500.75000  1.562853e+07    584.000000     32.000000      3.000000   \n",
              "50%     5000.50000  1.569074e+07    652.000000     37.000000      5.000000   \n",
              "75%     7500.25000  1.575323e+07    718.000000     44.000000      7.000000   \n",
              "max    10000.00000  1.581569e+07    850.000000     92.000000     10.000000   \n",
              "\n",
              "             Balance  NumOfProducts    HasCrCard  IsActiveMember  \\\n",
              "count   10000.000000   10000.000000  10000.00000    10000.000000   \n",
              "mean    76485.889288       1.530200      0.70550        0.515100   \n",
              "std     62397.405202       0.581654      0.45584        0.499797   \n",
              "min         0.000000       1.000000      0.00000        0.000000   \n",
              "25%         0.000000       1.000000      0.00000        0.000000   \n",
              "50%     97198.540000       1.000000      1.00000        1.000000   \n",
              "75%    127644.240000       2.000000      1.00000        1.000000   \n",
              "max    250898.090000       4.000000      1.00000        1.000000   \n",
              "\n",
              "       EstimatedSalary        Exited  \n",
              "count     10000.000000  10000.000000  \n",
              "mean     100090.239881      0.203700  \n",
              "std       57510.492818      0.402769  \n",
              "min          11.580000      0.000000  \n",
              "25%       51002.110000      0.000000  \n",
              "50%      100193.915000      0.000000  \n",
              "75%      149388.247500      0.000000  \n",
              "max      199992.480000      1.000000  "
            ],
            "text/html": [
              "\n",
              "  <div id=\"df-9ece1f86-139c-4ff8-b080-fe75da6aab3d\">\n",
              "    <div class=\"colab-df-container\">\n",
              "      <div>\n",
              "<style scoped>\n",
              "    .dataframe tbody tr th:only-of-type {\n",
              "        vertical-align: middle;\n",
              "    }\n",
              "\n",
              "    .dataframe tbody tr th {\n",
              "        vertical-align: top;\n",
              "    }\n",
              "\n",
              "    .dataframe thead th {\n",
              "        text-align: right;\n",
              "    }\n",
              "</style>\n",
              "<table border=\"1\" class=\"dataframe\">\n",
              "  <thead>\n",
              "    <tr style=\"text-align: right;\">\n",
              "      <th></th>\n",
              "      <th>RowNumber</th>\n",
              "      <th>CustomerId</th>\n",
              "      <th>CreditScore</th>\n",
              "      <th>Age</th>\n",
              "      <th>Tenure</th>\n",
              "      <th>Balance</th>\n",
              "      <th>NumOfProducts</th>\n",
              "      <th>HasCrCard</th>\n",
              "      <th>IsActiveMember</th>\n",
              "      <th>EstimatedSalary</th>\n",
              "      <th>Exited</th>\n",
              "    </tr>\n",
              "  </thead>\n",
              "  <tbody>\n",
              "    <tr>\n",
              "      <th>count</th>\n",
              "      <td>10000.00000</td>\n",
              "      <td>1.000000e+04</td>\n",
              "      <td>10000.000000</td>\n",
              "      <td>10000.000000</td>\n",
              "      <td>10000.000000</td>\n",
              "      <td>10000.000000</td>\n",
              "      <td>10000.000000</td>\n",
              "      <td>10000.00000</td>\n",
              "      <td>10000.000000</td>\n",
              "      <td>10000.000000</td>\n",
              "      <td>10000.000000</td>\n",
              "    </tr>\n",
              "    <tr>\n",
              "      <th>mean</th>\n",
              "      <td>5000.50000</td>\n",
              "      <td>1.569094e+07</td>\n",
              "      <td>650.528800</td>\n",
              "      <td>38.921800</td>\n",
              "      <td>5.012800</td>\n",
              "      <td>76485.889288</td>\n",
              "      <td>1.530200</td>\n",
              "      <td>0.70550</td>\n",
              "      <td>0.515100</td>\n",
              "      <td>100090.239881</td>\n",
              "      <td>0.203700</td>\n",
              "    </tr>\n",
              "    <tr>\n",
              "      <th>std</th>\n",
              "      <td>2886.89568</td>\n",
              "      <td>7.193619e+04</td>\n",
              "      <td>96.653299</td>\n",
              "      <td>10.487806</td>\n",
              "      <td>2.892174</td>\n",
              "      <td>62397.405202</td>\n",
              "      <td>0.581654</td>\n",
              "      <td>0.45584</td>\n",
              "      <td>0.499797</td>\n",
              "      <td>57510.492818</td>\n",
              "      <td>0.402769</td>\n",
              "    </tr>\n",
              "    <tr>\n",
              "      <th>min</th>\n",
              "      <td>1.00000</td>\n",
              "      <td>1.556570e+07</td>\n",
              "      <td>350.000000</td>\n",
              "      <td>18.000000</td>\n",
              "      <td>0.000000</td>\n",
              "      <td>0.000000</td>\n",
              "      <td>1.000000</td>\n",
              "      <td>0.00000</td>\n",
              "      <td>0.000000</td>\n",
              "      <td>11.580000</td>\n",
              "      <td>0.000000</td>\n",
              "    </tr>\n",
              "    <tr>\n",
              "      <th>25%</th>\n",
              "      <td>2500.75000</td>\n",
              "      <td>1.562853e+07</td>\n",
              "      <td>584.000000</td>\n",
              "      <td>32.000000</td>\n",
              "      <td>3.000000</td>\n",
              "      <td>0.000000</td>\n",
              "      <td>1.000000</td>\n",
              "      <td>0.00000</td>\n",
              "      <td>0.000000</td>\n",
              "      <td>51002.110000</td>\n",
              "      <td>0.000000</td>\n",
              "    </tr>\n",
              "    <tr>\n",
              "      <th>50%</th>\n",
              "      <td>5000.50000</td>\n",
              "      <td>1.569074e+07</td>\n",
              "      <td>652.000000</td>\n",
              "      <td>37.000000</td>\n",
              "      <td>5.000000</td>\n",
              "      <td>97198.540000</td>\n",
              "      <td>1.000000</td>\n",
              "      <td>1.00000</td>\n",
              "      <td>1.000000</td>\n",
              "      <td>100193.915000</td>\n",
              "      <td>0.000000</td>\n",
              "    </tr>\n",
              "    <tr>\n",
              "      <th>75%</th>\n",
              "      <td>7500.25000</td>\n",
              "      <td>1.575323e+07</td>\n",
              "      <td>718.000000</td>\n",
              "      <td>44.000000</td>\n",
              "      <td>7.000000</td>\n",
              "      <td>127644.240000</td>\n",
              "      <td>2.000000</td>\n",
              "      <td>1.00000</td>\n",
              "      <td>1.000000</td>\n",
              "      <td>149388.247500</td>\n",
              "      <td>0.000000</td>\n",
              "    </tr>\n",
              "    <tr>\n",
              "      <th>max</th>\n",
              "      <td>10000.00000</td>\n",
              "      <td>1.581569e+07</td>\n",
              "      <td>850.000000</td>\n",
              "      <td>92.000000</td>\n",
              "      <td>10.000000</td>\n",
              "      <td>250898.090000</td>\n",
              "      <td>4.000000</td>\n",
              "      <td>1.00000</td>\n",
              "      <td>1.000000</td>\n",
              "      <td>199992.480000</td>\n",
              "      <td>1.000000</td>\n",
              "    </tr>\n",
              "  </tbody>\n",
              "</table>\n",
              "</div>\n",
              "      <button class=\"colab-df-convert\" onclick=\"convertToInteractive('df-9ece1f86-139c-4ff8-b080-fe75da6aab3d')\"\n",
              "              title=\"Convert this dataframe to an interactive table.\"\n",
              "              style=\"display:none;\">\n",
              "        \n",
              "  <svg xmlns=\"http://www.w3.org/2000/svg\" height=\"24px\"viewBox=\"0 0 24 24\"\n",
              "       width=\"24px\">\n",
              "    <path d=\"M0 0h24v24H0V0z\" fill=\"none\"/>\n",
              "    <path d=\"M18.56 5.44l.94 2.06.94-2.06 2.06-.94-2.06-.94-.94-2.06-.94 2.06-2.06.94zm-11 1L8.5 8.5l.94-2.06 2.06-.94-2.06-.94L8.5 2.5l-.94 2.06-2.06.94zm10 10l.94 2.06.94-2.06 2.06-.94-2.06-.94-.94-2.06-.94 2.06-2.06.94z\"/><path d=\"M17.41 7.96l-1.37-1.37c-.4-.4-.92-.59-1.43-.59-.52 0-1.04.2-1.43.59L10.3 9.45l-7.72 7.72c-.78.78-.78 2.05 0 2.83L4 21.41c.39.39.9.59 1.41.59.51 0 1.02-.2 1.41-.59l7.78-7.78 2.81-2.81c.8-.78.8-2.07 0-2.86zM5.41 20L4 18.59l7.72-7.72 1.47 1.35L5.41 20z\"/>\n",
              "  </svg>\n",
              "      </button>\n",
              "      \n",
              "  <style>\n",
              "    .colab-df-container {\n",
              "      display:flex;\n",
              "      flex-wrap:wrap;\n",
              "      gap: 12px;\n",
              "    }\n",
              "\n",
              "    .colab-df-convert {\n",
              "      background-color: #E8F0FE;\n",
              "      border: none;\n",
              "      border-radius: 50%;\n",
              "      cursor: pointer;\n",
              "      display: none;\n",
              "      fill: #1967D2;\n",
              "      height: 32px;\n",
              "      padding: 0 0 0 0;\n",
              "      width: 32px;\n",
              "    }\n",
              "\n",
              "    .colab-df-convert:hover {\n",
              "      background-color: #E2EBFA;\n",
              "      box-shadow: 0px 1px 2px rgba(60, 64, 67, 0.3), 0px 1px 3px 1px rgba(60, 64, 67, 0.15);\n",
              "      fill: #174EA6;\n",
              "    }\n",
              "\n",
              "    [theme=dark] .colab-df-convert {\n",
              "      background-color: #3B4455;\n",
              "      fill: #D2E3FC;\n",
              "    }\n",
              "\n",
              "    [theme=dark] .colab-df-convert:hover {\n",
              "      background-color: #434B5C;\n",
              "      box-shadow: 0px 1px 3px 1px rgba(0, 0, 0, 0.15);\n",
              "      filter: drop-shadow(0px 1px 2px rgba(0, 0, 0, 0.3));\n",
              "      fill: #FFFFFF;\n",
              "    }\n",
              "  </style>\n",
              "\n",
              "      <script>\n",
              "        const buttonEl =\n",
              "          document.querySelector('#df-9ece1f86-139c-4ff8-b080-fe75da6aab3d button.colab-df-convert');\n",
              "        buttonEl.style.display =\n",
              "          google.colab.kernel.accessAllowed ? 'block' : 'none';\n",
              "\n",
              "        async function convertToInteractive(key) {\n",
              "          const element = document.querySelector('#df-9ece1f86-139c-4ff8-b080-fe75da6aab3d');\n",
              "          const dataTable =\n",
              "            await google.colab.kernel.invokeFunction('convertToInteractive',\n",
              "                                                     [key], {});\n",
              "          if (!dataTable) return;\n",
              "\n",
              "          const docLinkHtml = 'Like what you see? Visit the ' +\n",
              "            '<a target=\"_blank\" href=https://colab.research.google.com/notebooks/data_table.ipynb>data table notebook</a>'\n",
              "            + ' to learn more about interactive tables.';\n",
              "          element.innerHTML = '';\n",
              "          dataTable['output_type'] = 'display_data';\n",
              "          await google.colab.output.renderOutput(dataTable, element);\n",
              "          const docLink = document.createElement('div');\n",
              "          docLink.innerHTML = docLinkHtml;\n",
              "          element.appendChild(docLink);\n",
              "        }\n",
              "      </script>\n",
              "    </div>\n",
              "  </div>\n",
              "  "
            ]
          },
          "metadata": {},
          "execution_count": 33
        }
      ]
    },
    {
      "cell_type": "code",
      "source": [
        "#5. Handle the Missing values."
      ],
      "metadata": {
        "id": "fisSha7optan"
      },
      "id": "fisSha7optan",
      "execution_count": null,
      "outputs": []
    },
    {
      "cell_type": "code",
      "source": [
        "df.isna().sum()"
      ],
      "metadata": {
        "colab": {
          "base_uri": "https://localhost:8080/"
        },
        "id": "7U-4wze0pxc3",
        "outputId": "51b1c07e-04ad-4b4f-d1bf-26567988f7e9"
      },
      "id": "7U-4wze0pxc3",
      "execution_count": null,
      "outputs": [
        {
          "output_type": "execute_result",
          "data": {
            "text/plain": [
              "RowNumber          0\n",
              "CustomerId         0\n",
              "Surname            0\n",
              "CreditScore        0\n",
              "Geography          0\n",
              "Gender             0\n",
              "Age                0\n",
              "Tenure             0\n",
              "Balance            0\n",
              "NumOfProducts      0\n",
              "HasCrCard          0\n",
              "IsActiveMember     0\n",
              "EstimatedSalary    0\n",
              "Exited             0\n",
              "dtype: int64"
            ]
          },
          "metadata": {},
          "execution_count": 35
        }
      ]
    },
    {
      "cell_type": "code",
      "source": [
        "#there is no missing values in dataset"
      ],
      "metadata": {
        "id": "jjzyuRN1py7Y"
      },
      "id": "jjzyuRN1py7Y",
      "execution_count": null,
      "outputs": []
    },
    {
      "cell_type": "code",
      "source": [
        "for i in df:\n",
        "    if df[i].dtype=='object' or df[i].dtype=='category':\n",
        "        print(\"unique of \"+i+\" is \"+str(len(set(df[i])))+\" they are \"+str(set(df[i])))"
      ],
      "metadata": {
        "colab": {
          "base_uri": "https://localhost:8080/"
        },
        "id": "Si5Dy5Lbp2_n",
        "outputId": "f2135056-a7b9-426b-9337-7e3189220029"
      },
      "id": "Si5Dy5Lbp2_n",
      "execution_count": null,
      "outputs": [
        {
          "output_type": "stream",
          "name": "stdout",
          "text": [
            "unique of Surname is 2932 they are {'Bezrukov', 'Estes', 'Fontaine', 'Estrada', 'Mosman', 'Vasilyeva', 'Challis', 'Brewer', 'Nnaemeka', 'Holloway', 'Ukaegbulam', 'Wofford', 'More', 'Fielding', 'Hinton', 'Wade', 'Hess', 'Burgos', 'Cary', 'Westerberg', 'Algarin', 'Vincent', 'Higgins', 'Hebert', 'Flemming', 'Caffyn', 'Coffee', 'Daluchi', 'Vavilov', 'McDavid', 'Waring', 'Hort', 'Weatherford', 'Eddy', 'Farrar', 'Castles', 'Demidov', 'Raynor', 'Kenechi', 'Aleksandrova', 'Adamson', 'Hackett', 'Winters', 'Abdulov', 'Galloway', 'Corran', 'Zakharov', 'Diggs', 'Chukwuhaenye', 'Wentcher', 'Barrera', 'Frankland', 'Maclean', 'Lazareva', 'Amechi', 'Tretiakova', 'Newton', 'Monnier', 'Fitzgerald', 'Wyckoff', 'Wiley', 'Ramsbotham', 'Chu', 'Monaldo', 'Krawczyk', 'Osonduagwuike', 'Kalinina', 'Yermolayeva', 'Landseer', 'Slate', \"T'ang\", 'Pavlova', 'Pike', 'Mach', 'Vinogradov', 'Melvin', 'Fraser', 'Hairston', 'Akobundu', 'Chubb', 'Hayward', 'Rocher', 'Windsor', 'Onuchukwu', 'Alvarez', 'Astorga', 'Jobson', 'Davy', 'Kentish', 'Abel', 'Garland', 'Boucaut', 'Corby', 'Honore', 'Medland', 'Ferri', 'McCawley', 'Burt', 'Graham', 'Austin', 'Isayeva', 'Bruce', 'Caldwell', 'McIntosh', 'Christopher', 'Calabrese', 'Berkeley', 'Watson', 'Davison', 'Edgar', 'Mullan', 'Maslova', 'Toosey', 'Bates', 'Padilla', 'Gadsden', 'Kinder', 'Kuo', 'Bowhay', 'MacDonnell', 'Nwebube', 'Moysey', 'Dynon', 'Allan', 'Wallwork', 'Odell', 'De Salis', 'Chibuzo', 'Lowrie', 'Guerra', 'Castillo', 'Chia', 'Yirawala', 'Moretti', 'Stone', 'Darwin', 'Obinna', 'Inman', 'Hooper', 'Brownlow', 'Kinney', 'Ireland', 'Pettry', 'Y?', 'Romero', 'Lamb', 'Nwoye', 'Yusupov', 'Chidiebele', 'Mills', 'Rawling', 'Reilly', 'Bazile', 'Valdez', 'Hingston', 'Butcher', 'Sargood', 'Louis', 'Pagnotto', 'Hoelscher', 'Rearick', \"Ch'eng\", \"O'Connor\", 'Lockington', 'Hixson', 'Spencer', 'Dean', 'Faulk', 'Nekrasov', 'Davies', 'Godson', 'Blacklock', 'Hawdon', 'Service', 'Oldham', 'Gordon', 'Okechukwu', 'Mackie', 'Debellis', 'Jarvis', 'Andreev', 'Cody', 'Santiago', 'Tudawali', 'Micco', 'Maconochie', 'Frederickson', 'Venables', 'Yewen', 'Santana', 'Leibius', 'Forwood', 'Enriquez', 'Li', 'Wunder', 'Reichard', 'Steinhoff', 'Baranova', 'Manna', 'Ni', 'Pirogov', 'Everingham', 'Hand', 'Lehr', 'Onuoha', 'Gould', 'Clogstoun', 'See', 'Angel', 'Leworthy', 'Travis', 'Franz', 'Sumrall', 'Griffin', 'Thurgood', 'Gallop', 'Gomes', 'Phelps', 'Osorio', 'Burgmann', 'Temple', 'Felix', 'Griffen', 'Abron', 'Kapustin', 'Montes', 'Gray', 'Vasiliev', 'Otutodilinna', 'Synnot', 'Ozerova', 'Grigoryeva', 'Birdseye', 'Ting', 'Gaffney', 'Ewing', 'Cover', 'Boyle', 'Manfrin', 'McMorran', 'Levi', 'Donahue', 'Cumbrae-Stewart', 'Iweobiegbunam', 'Feetham', 'Quaife', 'Andrejew', 'Hammonds', 'Foxall', 'Neal', \"O'Sullivan\", 'Zinachukwudi', 'Aguirre', 'Dodds', 'Boni', 'Pisano', 'Bennelong', 'Elliot', 'Yobachukwu', 'Fomin', 'Jideofor', 'Lombardo', 'Hightower', 'Hearn', 'King', 'Bold', 'Koo', 'Loving', 'Retana', 'Ohearn', 'Cheng', 'Zhou', 'Marcelo', 'Shubin', 'Finch', 'Heydon', 'Afamefula', 'Iloabuchi', 'Vicars', 'Fink', 'Becher', 'Davydova', 'Palfreyman', 'Cecil', 'Reid', 'Kaleski', 'Atherton', 'Pirogova', 'Bailey', 'Demuth', 'Lavrentiev', 'Efimov', 'Chinagorom', 'Keen', 'Akeroyd', 'Nnanna', 'Cooper', 'Onwubiko', 'Hobler', 'Lambie', 'Pope', 'Timms', 'Fyodorova', 'Grave', 'Burlingame', 'Woods', 'Noble', 'Tomlinson', 'Demaine', 'Golovanov', 'Secombe', 'Patterson', 'Price', 'Meng', 'Nicoll', 'Barnett', 'Pokrovskii', 'Huang', 'Nyhan', 'Drakeford', 'Chibugo', 'Coffman', 'Brenan', 'Andreyeva', 'Pedder', 'Shand', 'Chatfield', 'Riley', 'Chialuka', 'Chiazagomekpele', 'Stanley', 'Frewin', 'Bennetts', 'Hurst', 'Yu', 'Carvosso', 'Yashina', 'Foley', 'Pape', 'Lai', 'Clifton', 'Palermo', 'Sunderland', 'Ponomaryov', 'Okorie', 'Hammond', 'Oliver', 'Whitworth', 'Mathews', 'Sandover', 'Lavrov', 'Chill', 'McBurney', 'Rendall', 'McMinn', 'Lawless', 'Mai', 'Ogbonnaya', 'Georg', 'Gearhart', 'Hay', 'Hall', 'Hendley', 'McCollum', 'Kovalyova', 'Milano', 'Longo', 'Milligan', 'Daniels', 'Innes', 'Duigan', 'Ferrari', 'Ridley', 'Sneddon', 'Nucci', 'Gardiner', 'Tipton', 'Jeffrey', 'Gibson', 'Jowett', 'Bazarova', 'Ives', 'Ibragimova', 'Richardson', 'Pye', 'Shcherbakov', 'Bellasis', 'Gunson', 'Armit', 'Yoo', 'Vaguine', 'Perry', 'Doyle', 'Chukwufumnanya', 'Zack', 'Maurer', 'Gorshkov', 'Thorpe', 'Pease', 'Harding', 'Currey', 'Onwuamaeze', 'Outtrim', 'Bazhenov', 'Hibbins', 'Chibueze', 'McElhone', 'Ermakov', 'Chiekwugo', 'Rudduck', 'Sleeman', 'Cox', 'Standish', 'Kauffmann', 'Pollard', 'Mountgarrett', 'Okwuoma', 'Allsop', 'Ozioma', 'Sergeyeva', 'Dilibe', 'Kruglova', 'Cocci', 'Rivero', 'Pritchard', 'Obidimkpa', 'Waterhouse', 'Poole', 'Tuan', 'Lacross', 'Grover', 'Yost', 'Chuang', 'Nebeuwa', 'Pham', 'Loyau', 'Alexeieva', 'Bearce', 'Pettit', 'Ryrie', 'Pauley', 'Doyne', 'Chong', 'Istomin', 'Worsnop', 'Rubensohn', 'Griffiths', 'Tennant', 'Fairley', 'Bezrukova', 'Teague', 'Walker', 'Zox', 'Tillman', 'Muldrow', 'Wynne', 'Anthony', 'Bray', 'Landman', 'Harrison', 'Nicholls', 'Osinachi', 'Sanchez', 'Bufkin', 'Septimus', 'Estep', 'Trumbull', 'Hawes', 'Boan', 'Yermakova', 'Balsillie', 'Cavenagh', 'Sharpe', 'Smith', 'Kilgour', 'Rahman', 'Slone', 'Read', 'Michelides', 'Ugonna', 'Ramirez', 'Lord', 'Peacock', 'Marsh', 'Siciliano', 'Yeates', 'Obijiaku', 'Sani', 'Trevisan', 'Cousens', 'Macartney', 'Murray', 'Dunn', 'Troupe', 'Nwagugheuzo', 'Hewitt', 'Leason', 'Castella', 'Marsden', 'Evdokimov', 'Greenwalt', 'Vial', 'Neitenstein', 'Crocker', 'Summerville', 'Ann', 'Rioux', 'Meredith', 'Holland', 'Chieloka', 'Kellway', 'Burdekin', 'Howell', 'Newbery', 'Bancroft', 'Stradford', 'Madukwe', 'Corbett', 'Faulkner', 'Ford', 'Barker', 'Torode', 'Hughes', 'Copeland', 'Morin', 'Robson', 'Iredale', 'Cardus', 'Vessels', 'Reagan', 'Korovina', 'Scannell', 'Sawtell', 'Parry', 'Fishbourne', 'Zuyev', 'Chiedozie', 'Zikoranaudodimma', 'Somerville', 'Davey', 'St Clair', 'Deleon', 'Edwards', 'Balashova', 'Chikwendu', 'Onio', 'Manners', 'Yermakov', 'McDonald', 'Saunders', 'Titheradge', 'Morphett', 'Tien', 'Pitcher', 'Degtyarev', 'Richmond', 'Birk', 'Ibeamaka', 'Becker', 'Solomina', 'Muomelu', 'Dietz', 'Ankudinova', 'Webb', 'Vachon', 'Ahmed', 'Valenzuela', 'Newman', \"Ch'in\", 'Sholes', 'May', 'McCardle', 'Herring', 'Ewers', 'Ifeanyichukwu', 'Brothers', 'Benjamin', 'Watts', 'Benson', 'Oluchi', 'Bibi', 'Booth', 'Ozuluonye', 'Nicholson', 'Laurie', 'Cartwright', 'Bledsoe', 'Sozonov', 'Muramats', 'Rogers', 'Oleary', 'West', 'Grant', 'Allnutt', 'Streeton', 'Valentin', 'Moon', 'Achebe', 'Ekechukwu', 'Okonkwo', 'Kudryashova', 'Justice', 'Galgano', 'Elewechi', 'Dreyer', 'Newsom', 'Chiwetelu', 'Corson', 'Brookes', 'Bocharova', 'Kegley', 'McCane', 'Moroney', 'Campos', 'Unaipon', 'Ulyanova', 'Custance', 'Rubin', 'Somadina', 'Howells', 'Cowen', 'Langdon', 'Rolon', 'Tseng', 'Elliott', 'Donaghy', 'Amos', 'Stobie', 'Morrice', 'Bukowski', 'Olejuru', 'Abbott', 'Goforth', 'Lange', 'Winifred', 'Board', 'Sidorova', 'Harvey', 'Joseph', 'Onyemauchechukwu', 'Meagher', 'Iroawuchi', 'Woodhouse', 'McKelvey', 'Dale', 'Plumb', 'Abramovich', 'Wynn', 'Metcalf', 'Zotova', 'Konovalova', 'Howarde', 'Holbrook', 'Clements', 'Munson', 'Jacka', 'Algeranoff', 'Chijindum', 'Gentry', 'Lo Duca', 'Golubev', 'Brazenor', 'Artyomova', 'Leach', 'Game', 'Eremenko', 'Potts', 'Fiorentino', 'Castro', 'Barber', 'Lederer', 'Lewis', 'Chukwukadibia', 'Rickards', 'Tychonoff', 'Simmons', 'Plant', 'Timperley', 'Reyes', 'MacDonald', 'Holt', 'Yancy', 'Igwebuike', 'Lane', 'Remington', 'Coombes', 'Doherty', 'Ponomaryova', 'Oluchukwu', 'Bruche', 'Tsou', 'McKissick', \"O'Kane\", 'Serrano', 'Kennedy', 'Wilson', 'Jessop', 'Chukwuma', 'Palazzi', 'Arthur', 'Fan', 'Giordano', 'Romano', 'Namatjira', 'Reeves', 'Yin', 'Begley', 'Samson', 'Zhdanov', 'Hickey', 'Gamble', 'Sugden', 'Greenwood', 'Lyons', 'Crace', 'Kingsley', 'Thomsen', 'Yao', 'Connor', 'Daly', 'Tretyakova', 'Semmens', 'Diehl', 'Yegorov', 'Padovesi', 'Mitchell', 'Dumetochukwu', 'Lindeman', 'Labrador', 'Lu', 'Drury', 'Uwakwe', 'Nock', 'Mao', 'Bateman', 'Muecke', 'Mahomed', 'Duffy', 'Singleton', 'Ebelechukwu', 'Hartung', 'Heller', 'Cook', 'Eskridge', 'Biryukova', 'Greece', 'Okoli', 'Vida', 'Mamelu', 'Traeger', 'Dilke', 'Fallaci', 'Burn', 'Earle', 'Buckley', 'Bryan', 'Sal', 'Seleznev', 'Hazon', \"Ch'ien\", 'Lockyer', 'Jerger', 'Bishop', 'Burbidge', 'Mairinger', 'Sutton', 'De Neeve', 'McNess', 'Rossi', 'Jefferson', 'Summers', 'Fetherstonhaugh', 'Harrell', 'Swadling', 'Chukwuemeka', 'Seabrook', 'Bolton', 'Ervin', 'Yelverton', \"Ts'ai\", 'Beavers', 'Sacco', 'L?', \"O'Brien\", 'Madukaife', 'Cardell', 'Byrne', 'Baxter', 'McClaran', 'Lovely', 'Loftus', 'Townsley', 'Pokrovskaya', 'Miranda', 'Chidimma', 'Barrett', 'Rishel', 'Saad', 'Pan', 'Kambinachi', 'Hsia', 'Tao', 'Kincaid', 'Mistry', 'Landry', 'Espinosa', 'Sturdee', 'McFarland', 'Yuan', 'Larionova', 'Stonebraker', 'Lucchesi', 'Praed', 'Wright', 'Anayolisa', 'Lear', 'Metcalfe', 'Billson', 'Johnstone', 'Merrett', 'Norris', 'Robertson', 'Hollis', 'Bottrill', 'Laney', 'Liardet', 'Perrodin', 'McChesney', 'Olague', 'Lahti', 'Fu', 'Onuora', 'Bruny', 'Chiefo', 'Diaz', 'Trevisani', \"T'ao\", 'Hampton', 'Sabbatini', 'Le Grand', 'Ringrose', 'Claypool', 'Bidencope', 'Chikelu', 'DeRose', 'Cayley', 'Gouger', 'Stevenson', 'De Luca', 'Castiglione', 'Mead', 'Afamefuna', 'Spinelli', 'Cockrum', 'Dubinina', 'Hare', 'Mueller', 'Mbanefo', 'Paling', 'Ash', 'Soares', 'Nevels', 'Ratten', 'Richards', 'Teng', 'Kepley', 'McVey', 'Chinweike', 'Dodgshun', 'Wieck', 'Arcuri', 'Sochima', 'Stewart', 'Arnold', 'Zuev', 'Fisk', 'Townsend', 'Howe', 'Watkins', 'Morant', 'Curtis', 'Mirams', 'Morehead', 'Zaytseva', 'Outlaw', 'Alexandrova', 'Kazantsev', 'Cantamessa', 'Illingworth', 'Uchenna', 'Klein', 'Smalley', 'Blake', 'Fernandez', 'Macadam', 'Jara', 'Greenhalgh', 'Patrick', 'Chou', 'Eidson', 'Onwuka', 'Dodd', 'Nikitina', 'Tan', 'Chester', 'Boothby', 'Cole', 'Yefremov', 'Edmondstone', 'Mellor', 'Li Fonti', 'Bowman', 'Treacy', 'Creswell', 'Alekseyeva', 'Aldridge', 'Le Hunte', 'North', 'Fleetwood-Smith', 'Shen', 'Farrell', 'Aksakova', 'Ibbott', 'MacDevitt', 'Barnhill', 'Artemyeva', 'Kolesnikova', 'Howey', 'Picot', 'Allardyce', 'Wardle', 'Bykov', 'Alaniz', 'Dawkins', 'Medvedev', 'Beach', 'Liu', 'McElyea', 'Bond', 'Bunton', 'Collee', 'Johnston', 'Pottinger', 'Wilkinson', 'Fox', 'Schneider', 'Rippey', 'Downie', 'Chinedum', 'Crist', 'Zikoranachukwudimma', 'Pratt', 'Kamdibe', 'Farber', 'Burgess', 'Lennox', 'Macnamara', 'Lea', 'Harrington', 'Eve', 'Vasilyev', 'Krichauff', 'Capon', 'Onyinyechukwuka', 'Hsiung', 'Dyson', 'Goodman', 'Lang', 'Sturt', 'Pepper', 'Okwuadigbo', 'Geoghegan', 'Warren', 'Szabados', 'Chiemeka', 'Odinakachukwu', 'Milani', 'Ibekwe', 'Balmain', 'Creel', 'Aldrich', 'Siddons', 'Messersmith', 'Heath', 'Kent', 'Egobudike', 'Compton', 'Yudin', 'Chamberlin', 'Lafleur', 'Von Doussa', 'Verco', 'Aliyev', 'McWilliam', 'Speight', 'Kovalev', 'James', 'Abernathy', 'Kibby', 'Simpson', 'Basedow', 'Hicks', 'Laidley', 'Upchurch', 'Ignatyeva', 'Fries', 'Chigbogu', 'Gratton', 'Ugochukwutubelum', 'Ricci', 'Cochran', 'Craig', 'Overby', 'Macdonald', 'Bidwill', 'Reynolds', 'Lucas', 'Lampungmeiua', 'Thornton', 'Gell', 'Hsing', 'McLean', 'Robe', 'Hs?', 'Bogdanov', 'Dufresne', 'Okwudilichukwu', 'Begg', 'Pennington', 'Duke', 'Vinogradova', 'Spring', 'Broadhurst', 'Wells', 'Hallahan', 'Ochoa', 'Locke', 'Shearston', 'Field', 'Goddard', 'Lawrence', 'Kline', 'McConnell', 'Swaim', 'Gboliwe', 'Ijendu', 'Gilchrist', 'Hunt', 'Mazure', 'Spence', 'Rapuokwu', 'Kirkland', 'Efremov', 'Chukwuraenye', 'Belbin', 'Elizabeth', 'Hales', 'Wickens', 'Chin', 'Fitch', 'Chijioke', \"O'Loghlen\", 'Lilly', 'Lamble', 'Threatt', 'Ndubueze', 'Jordan', 'Oguejiofor', 'Greco', 'Hajek', 'Chimezie', 'Coleman', 'Duggan', 'Armfield', 'Cremin', 'Clark', 'Khan', 'Terry', 'Galkin', 'Pardey', 'Ignatiev', 'Neumayer', 'Tucker', 'Chung', 'Judd', 'Rischbieth', 'Ermakova', 'Brownless', 'Keeley', 'Blesing', 'Gough', 'Lassetter', 'Maynard', 'Gardener', 'Loewenthal', 'Kodilinyechukwu', 'Newland', 'Perez', 'Glassman', 'Shah', 'Levy', 'Nkemjika', 'Boulger', 'Cobb', 'Knepper', 'Farmer', 'McCulloch', 'Alexeyeva', 'Gardner', 'Joslin', 'Sukhorukova', 'Chidalu', 'Samoylova', 'Chineze', 'Eames', 'Parker', 'Lawson', 'Fulton', 'Bluett', 'Hornung', 'Wetherspoon', 'Nwokike', 'Small', 'Fitzpatrick', 'Mayrhofer', 'Grosse', 'Du Cane', 'Muse', 'Simpkinson', 'Spitzer', 'Micklem', 'Candler', 'Packham', 'Efremova', 'Alvares', 'Nash', 'Thomson', 'Kruglov', 'Matthias', 'Anenechukwu', 'Matveyeva', 'Stanton', 'Kenechukwu', 'Bonwick', 'Hopwood', 'Galkina', 'McGregor', 'Parks', 'Brizendine', 'Gorman', 'Clamp', 'Bradshaw', 'Wilkie', 'Browne', 'Naylor', 'Brady', 'Roberts', 'Burrows', 'Barwell', 'Zaitsev', 'Phillipps', 'Taverner', 'Cross', 'Lorenzo', 'Torkelson', 'Bochsa', 'Davidson', 'Maxwell', 'Kanayochukwu', 'Artemieva', 'Cone', 'Truscott', 'McGuirk', 'Onyemaechi', 'Hayes', 'Sadler', 'Haworth', 'Sheffield', 'Sokolov', 'Martel', 'Yefimova', 'Belstead', 'Lori', 'Lindsay', 'Ludowici', 'Tai', 'Enticknap', 'Paramor', 'Wearing', 'Pruneda', 'Hughes-Jones', 'Abramowitz', 'Odili', 'Buchi', 'Ignatieff', 'Burns', 'Findlay', 'William', 'Oster', 'Chalmers', 'Hutcheon', 'Kolesnikov', 'Ejikemeifeuwa', 'Gotch', 'Yates', 'Bednall', 'Bellew', 'Nagy', 'Herz', 'Forlonge', 'Otitodilichukwu', 'Romani', 'Sanders', 'Schiavone', 'Ndubuisi', 'Amaechi', 'Onwumelu', 'Willmore', 'Bovee', 'Molle', 'Kaur', 'Marcus', 'Udinesi', 'Sandefur', 'Sharwood', 'Fullwood', 'Dike', 'George', 'Wickham', 'Nweke', 'Balashov', 'Mott', 'Fanucci', 'Wilhelm', 'Marshall-Hall', 'Johnson', 'Rounsevell', 'Gerasimova', 'Connely', 'Kalinin', 'Garran', 'Yang', 'Golibe', 'Hansen', 'Ukaegbunam', 'Knowles', 'Chimaijem', 'Chuter', 'McGarry', 'Sheppard', 'Descoteaux', 'Lipton', 'Aparicio', 'Maruff', 'Morris', 'Hanna', 'Paten', 'Black', 'Isayev', 'Nnamdi', 'Cavill', 'Dimauro', 'Garnsey', 'Piazza', 'Laura', 'Ojiofor', 'Pipes', 'Knupp', 'Gambrell', 'Curnow', 'Abbie', 'Nekrasova', 'Pickworth', 'Tokareva', 'Slater', 'Liao', 'H?', 'Helena', 'K?', 'Payne', 'Yeh', 'Yermolayev', 'Morey', 'Moss', 'Salinas', 'Yevseyev', 'Bell', 'Mironova', 'Whitelegge', 'Kwemtochukwu', 'Evseyev', 'Gannon', 'Chidi', 'Fokine', 'Allard', 'Lavine', 'Colbert', 'Chen', 'Maughan', 'Lorimer', 'Patel', 'Andreyev', 'Padovano', 'Mault', 'Samuel', 'Vigano', 'Prokhorova', 'Kaodilinakachukwu', 'Udinese', 'Stout', 'Owen', 'Carey', 'Highett', 'Groves', 'Rowntree', 'Enderby', 'Herbert', 'Walpole', 'Sternberg', 'Lappin', 'Porter', 'McWilliams', 'Cohn', 'Aikenhead', 'Hopetoun', 'McMillan', 'Jones', 'McIver', 'He', 'Bair', 'Sherman', 'Babbage', 'Eiland', 'Kane', 'Rozhkova', 'Swanton', 'Lawley', 'Stehle', 'Weigel', 'Chinwemma', 'Onyekachi', 'Speth', 'Dettmann', 'Frye', 'Brodney', 'Short', 'Hargraves', 'Aksenova', 'Potter', 'Stephens', 'Ashbolt', 'Mollison', 'Linger', 'Fennescey', 'Rohu', 'Pearce', 'Obielumani', 'Kesteven', 'Cooke', 'Baranov', 'Hawkins', 'Chizoba', 'Menhennitt', 'Daigle', 'Sharp', 'Cyril', 'Obioma', 'Ayers', 'Aliyeva', 'Houghton', 'Biryukov', 'Dumetolisa', 'Thomas', 'Kirwan', 'Whitehouse', 'Chiawuotu', 'Gibney', 'Zotov', 'Nickson', 'Campa', 'Hart', 'Haddon', 'Pacheco', 'Walsh', 'Massie', 'Vagin', 'Yuille', 'Chiemela', 'Buchanan', 'Swinton', 'Blackall', 'Bustard', 'Ward', 'Grubb', 'Lindon', 'Henty', 'Pagan', 'Martin', 'Cantrell', 'Udegbulam', 'Muriel', 'Stoneman', 'Hardy', 'Stiles', 'Distefano', 'Chase', 'Jolly', 'Crump', 'Alley', 'McKinnon', 'Bligh', 'Kibble', 'Pickering', 'Forbes', 'Mazzi', 'Wong', 'Chidubem', 'Bulgakov', 'Osborne', 'Keldie', 'Palerma', 'Ingle', 'Panicucci', 'Willoughby', 'Chukwujamuike', 'Blue', 'Ballard', 'Wollstonecraft', 'Knipe', 'Yobachi', 'Bales', 'Hargreaves', 'Hawthorn', 'Baird', 'Ruiz', 'Quezada', 'Watt', 'Kirsova', 'Sagese', \"Ts'ui\", 'Salas', 'Wardell', 'Wilsmore', 'Dawson', 'Mbadiwe', 'Fomina', 'Ah Mouy', 'Bogle', 'Belousov', 'Palmerston', 'Tikhonov', 'Woodard', 'Beam', 'Schwartz', 'Navarrete', 'Levien', \"O'Donnell\", 'Dalrymple', 'Koch', 'Peppin', 'Humphreys', 'Ankudinov', 'Catchpole', 'Blair', 'Hayes-Williams', 'Kelly', 'Randolph', 'Ibrahimov', 'Ku', 'Bobrov', 'Forster', 'Everett', 'Ugonnatubelum', 'Mendes', 'Rosas', 'Marks', 'Dumolo', 'Samaniego', \"K'ung\", 'Vidal', 'Wallace', 'Heap', 'Vassiliev', 'Uwaezuoke', 'Yamamoto', 'Ball', 'Hao', 'Hilton', 'Dwyer', 'Plummer', 'Iheanacho', 'Sauve', 'Spaull', 'Thompson', 'Logue', 'Burfitt', 'Garner', 'Chukwubuikem', 'Kwemto', 'Craigie', 'Gregory', 'Nnaife', 'Nkemdirim', 'Koehler', 'Edmondson', 'Tang', 'Henderson', 'Brim', 'Mort', 'Mishin', 'Gay', 'Ibezimako', 'Howarth', 'Priestley', 'Fabro', 'Dobie', 'Streeter', \"T'ien\", 'Collins', 'Lopez', 'Salmond', 'Onodugoadiegbemma', 'Azarov', 'Bogolyubova', 'Harriman', 'Kazantseva', 'Artamonova', 'Collingridge de Tourcey', 'Bennet', 'Snider', 'Fyans', 'Matlock', 'Veltri', 'Kazakova', 'Enyinnaya', 'Hope', 'Onochie', 'Docherty', 'Mazzanti', 'Leak', 'Boniwell', 'Seppelt', 'Ko', 'Rutherford', 'Day', 'Light', 'Dahlenburg', 'Culbreth', 'Hsu', 'Golubeva', 'Tokaryev', 'Bianchi', \"Ts'ao\", 'Buddicom', 'Slye', 'Alleyne', 'Buccho', 'Hannaford', 'Hardiman', 'Parkhill', 'Colebatch', 'Vinogradoff', 'Ndubuagha', 'Macfarlan', 'Nwora', 'Wallis', 'Napolitano', 'Stange', 'Knox', 'Olszewski', 'Wyatt', 'Dancy', 'Swanson', 'Okagbue', 'Senior', 'Gant', 'Furneaux', 'Sinclair', 'Lockett', 'Rudd', 'Learmonth', 'Fuller', 'Kosovich', 'Slattery', 'Goodwin', 'Haugh', 'Lysaght', 'Tyler', 'Burson', 'Leonard', 'Rowe', 'Akubundu', 'Arkwookerum', \"O'Loghlin\", 'McClemans', 'Chukwujekwu', 'Abramov', 'Kuznetsova', 'Vasilieva', 'Onyenachiya', 'Ikenna', 'Floyd', 'Joshua', 'Zhdanova', 'Preston', 'Soubeiran', 'Cherkasova', 'Macintyre', 'Munro', 'Unwin', 'Marcum', 'Kovalyov', 'Uspenskaya', 'Earl', 'Mullen', 'Whiddon', 'Hagins', 'Ramsden', 'Yevdokimova', 'Corones', 'Sullivan', 'Moreno', 'Cameron', 'Wayn', 'Fulks', 'Baryshnikov', 'Fernie', 'Ajuluchukwu', 'Yobanna', 'Ingamells', 'Clendinnen', 'Dennys', 'Ogochukwu', 'Burgoyne', 'Toomey', 'Barnard', 'Isaacs', 'Madukaego', 'Ruse', 'Wei', 'Tobenna', 'Ifesinachi', 'Kryukova', 'Lazarev', 'Chiemezie', 'Lettiere', 'Shelton', 'Buda', 'Bracewell', 'Emenike', 'Nielson', 'Upjohn', 'Matthews', 'Fiore', 'Kinlaw', 'Perreault', 'Anayochukwu', 'Uvarov', 'McNaughtan', 'Lascelles', 'Jowers', 'Stephenson', 'Batt', 'Edman', 'Azikiwe', 'Holder', 'Schnaars', 'Fitts', 'Kable', 'Dobbs', 'Chizuoke', 'Yegorova', 'Lujan', 'Chiang', 'Witt', 'Laurens', 'Tochukwu', 'Wheare', 'Norman', 'De Bernales', 'Beggs', 'Cookson', 'Vorobyova', 'Michel', 'Lazar', 'Ginn', 'Shipp', 'Carr', 'Ikemefuna', 'Combes', 'Abrego', 'Archer', 'Davila', 'Mikkelsen', 'Teakle', 'Uchechukwu', 'Okeke', 'Plascencia', 'Jess', 'Chinweuba', 'Avdeev', 'Milanesi', 'Jackson', 'Sergeyev', 'Eipper', 'Hill', 'Voronoff', 'Taylor', 'Bonham', 'Colon', 'Pharr', 'Lowell', 'Power', 'Han', 'Raff', 'Windradyne', 'Mironov', 'Woolnough', 'Madison', 'McNeil', 'Shaw', 'Nnonso', 'Wreford', 'Botts', 'Taubman', 'Williams', 'Cleveland', 'Gearheart', 'Macrossan', 'Connolly', 'Jenkins', 'Scott', 'Drake-Brockman', 'Talbot', 'Kashiwagi', 'Sokolova', 'Hsieh', 'Moyes', 'Hamilton', 'Lablanc', 'Izmailov', 'Esposito', 'Shephard', 'Beers', 'Dunbabin', 'Lung', 'Greene', 'Pomeroy', 'Frater', 'Onyeorulu', 'Huie', 'Schroeder', 'Manning', 'Clapp', 'Tinline', 'Ashley', 'McKee', 'Costa', 'Wilkes', 'Chimaobim', 'Repina', 'Builder', 'Ugochukwu', 'Onwuemelie', 'Rowley', 'Huggins', 'Wilding', 'Fyodorov', 'Chienezie', 'Rueda', \"Ch'ang\", 'Brown', 'Benford', 'Steen', 'Waters', 'MacPherson', 'Burton', 'Hunter', 'Okwukwe', 'Rickard', 'Nwokeocha', 'Hirst', 'Quinones', 'Ositadimma', 'Lynch', 'Lloyd', 'Owens', 'Rooke', 'Azubuike', 'Hyde', 'Rozier', 'Goold', 'Onwuatuegwu', 'Piccio', 'Otutodilichukwu', 'De Garis', 'Rapuluchukwu', 'Ellis', 'Dobson', 'Soto', 'Romilly', 'Bowen', 'Marrero', 'Ogle', 'Godfrey', 'Mahmood', 'Birdsall', 'Rivas', 'Meany', 'Cawood', 'Ponomarev', 'Bromby', 'Mackenzie', 'Claiborne', 'Kharlamov', 'Layh', 'Torres', 'Wood', 'Chiebuka', 'Mello', 'Ritchie', 'Horsfall', 'Gratwick', 'Rodriguez', 'Donoghue', 'Mosley', 'Goliwe', 'Kenniff', 'Hanson', 'Hsiao', 'Lajoie', 'Schoenheimer', 'Powell', 'Eberegbulam', 'Mario', 'Degtyaryov', 'Evseev', 'Templeman', 'Sutherland', 'McIntyre', 'Bevington', 'Liebe', 'Kendall', 'To Rot', 'Niu', 'Bagley', 'Dore', 'Hodgson', 'Hu', 'Kirillov', 'Farnsworth', 'Hotchin', 'Warner', 'Huddart', 'Lira', 'Halpern', 'Randall', 'Shepherd', 'Jensen', 'Levan', 'Hargrave', 'Berry', 'Dillon', 'Bitter', 'Voronina', \"O'Loughlin\", \"Ch'en\", 'Nwachukwu', 'Williamson', 'Nkemakonam', 'Gilroy', 'Congreve', 'Whitson', 'Winter-Irving', 'Green', 'Ekwueme', 'Macleod', 'Mayne', 'Jude', 'Vance', 'Fang', 'Norton', 'Parkin', 'Siciliani', 'Bellucci', 'Lionel', 'Foveaux', 'Frost', 'Melton', 'Bergamaschi', 'Angelo', 'Chikwado', 'Sykes', 'Ponce', 'Lavarack', 'Otitodilinna', 'Kay', 'Fantin', 'Kryukov', 'Nazarova', 'Anderson', 'Dixon', 'Andersen', 'Lowe', 'Garcia', 'Atkinson', 'Fiorentini', 'Olisaemeka', 'Amadi', 'Aksyonov', 'Chandler', 'McLachlan', 'Howard', 'Middleton', 'Zetticci', 'Cruz', 'Rhodes', 'Kenyon', 'Cowger', 'Moody', 'Olson', 'Gunter', 'Koger', 'Ugorji', 'Hancock', 'Marquez', 'Baddeley', 'Bogolyubov', 'Fischer', 'Ibrahimova', 'Grieve', 'Welsh', 'Alderete', 'Verjus', 'Chiazagomekpere', 'Pitts', 'Winter', 'Herrera', 'Kistler', 'Wolfe', 'Nicholas', 'Gidney', 'Jamison', 'Morales', 'Nwankwo', 'Colman', 'Nkemakolam', 'Shoobridge', 'Cairns', 'Flannery', 'Mouzon', 'Aleshire', 'Lo', 'Burke', 'Randell', 'McClinton', 'Langler', 'Kisch', 'Panina', 'Velazquez', 'Conway', 'Boone', 'Champion', 'Coupp', 'Mundy', 'Barclay', 'Cummins', 'Iloerika', 'Abdullah', 'Boyd', 'Wheeler', 'Runyon', 'Cawker', 'Beit', 'Thynne', 'Wagner', 'Mauldon', 'Okwudiliolisa', 'Swearingen', 'Knorr', 'Gill', 'Munroe', 'Udokamma', 'Freeman', 'Bardin', 'Komar', 'Jack', 'Chukwuebuka', 'Lombardi', 'Singh', 'Hodge', 'Steele', 'Salier', 'Whitfield', 'Trevisano', 'Mullawirraburka', 'Abazu', 'Montague', 'Kovaleva', 'Volkova', 'Russo', 'Nero', 'Onyekachukwu', 'Dowse', 'Hsueh', 'Drake', 'Kharlamova', 'Bronner', 'Kirk', 'Belcher', 'Robinson', 'Tsao', 'Beale', 'Obiora', 'Titus', 'Sorenson', 'Gleeson', 'McNeill', 'Seleznyov', 'Despeissis', 'Steere', 'Sazonova', 'Harewood', 'Cockett', 'Fennell', 'Band', 'McGuffog', 'Bushell', 'Onyekaozulu', 'Barnet', 'Baker', 'Kemp', 'Kosisochukwu', 'Greeves', 'Sievier', 'Ham', 'Chiemenam', 'Sanford', 'Swayne', \"O'Meara\", 'Ginikanwa', 'Chidozie', 'Knight', 'Ejimofor', 'Sousa', 'Yen', 'Ruth', 'Spyer', 'Elder', 'Gallo', 'McDowell', 'Christie', 'Defalco', 'Onwudiwe', 'Liston', 'Sargent', 'Nepean', 'Ibeabuchi', 'Barese', 'Onyemauchechi', 'Gorbunova', 'Munz', 'Keating', 'Rene', 'Bremer', 'Shaffer', 'Kuykendall', 'Abramova', 'Argyle', 'Glover', 'Weller', 'Ugoji', 'McDaniels', 'Morley', 'Chambers', 'Crumbley', 'Converse', 'Kelley', 'Bock', 'Hussain', 'Borchgrevink', 'Birnie', 'Bruno', 'Burtch', 'Cambage', 'Bibb', 'Ho', 'Storey', 'Kershaw', 'Walton', 'Douglas', 'Diribe', 'Hoolan', 'Chiagoziem', 'Izuchukwu', 'Kapustina', 'Seccombe', 'Le Gallienne', 'Barling', 'Dann', 'Alexandrov', 'Bullen', 'Hardacre', 'Flynn', 'Avdeyeva', 'Artemova', 'Lees', 'Sheehan', 'Downer', 'Virgo', 'Cartagena', 'Niehaus', 'Perkin', 'Gorbunov', 'Chinwendu', 'Golubov', 'Rivers', 'Holden', 'Baldwin', 'Peavy', 'Horrocks', 'Myers', 'Alekseeva', 'Luffman', 'Ikechukwu', 'Crawford', 'Norriss', 'Kharitonova', 'Rutledge', 'Welch', 'Gregson', 'Root', 'Postle', 'Chifley', 'Newbold', 'Gerald', 'Fancher', 'Kang', 'Chinwenma', 'Lupton', 'Pendred', 'Shaver', 'Arbour', 'Enemuo', 'Udobata', 'Polyakov', 'Streeten', 'Hannah', 'Pugh', 'Guerin', 'Arnott', 'Chidiegwu', 'Morres', 'Zuyeva', 'Frolova', 'Marian', 'Fowler', 'Aitken', 'Hannam', 'Yip', 'Chesnokova', 'Hudson', 'Lee', 'Pearson', 'Riggs', 'Christmas', 'Leckie', 'Caraway', 'Horan', 'Huguley', 'Barry', 'Buckland', 'Michael', 'Beck', 'Shelby', 'Nworie', 'Souter', 'Carruthers', 'Olisanugo', 'Lim', 'Lueck', 'Glenny', 'Clunie', 'Weber', 'Bage', 'Foran', 'Sorokina', 'Torreggiani', 'Wark', 'Brooks', 'Wall', 'Genovese', 'Seleznyova', 'Franklin', 'Rieke', 'Mansom', 'Bergman', 'Martinez', 'Jonathan', 'Fedorov', 'Miles', 'Greaves', 'Wenz', 'Brock', 'Lenhardt', 'Pugliesi', 'Glasgow', 'Peng', 'Wan', 'Pethard', 'Highland', 'Chigozie', 'Mishina', 'Tisdall', 'Murphy', 'Tu', 'Gonzalez', 'Schaffer', 'Montemayor', 'Toscano', 'Loginov', 'Meldrum', 'Darling', 'Kerr', 'Agafonova', 'Onyemere', 'Hopman', 'Lavrentyev', 'Parkinson', 'Gow', 'Rizzo', 'Yusupova', 'Corser', 'Fisher', 'White', 'Frederick', 'Rose', 'Molineux', 'Erskine', 'Gether', 'Sells', 'Eva', 'Trouette', 'Medvedeva', 'Jefferies', 'Stevens', 'McKinley', 'Emery', 'Zito', 'Muir', 'Endrizzi', 'Weaver', 'Armstrong', 'Quesada', 'Maccallum', 'Perkins', 'Zubarev', 'Maggard', 'Ferdinand', 'Cisneros', 'Elmore', 'Hs?eh', 'Corrie', 'Otoole', 'Beluchi', 'Belov', 'Trentino', 'Simon', 'Bartlett', 'Blinova', 'Muravyova', 'Gebhart', 'Rios', 'Gadsdon', 'Mordvinova', 'Raymond', 'Long', 'Walkom', 'Arrington', 'Nolan', 'Chidiebere', 'Kozlova', 'Stetson', 'Naquin', 'Warlow-Davies', 'Moen', 'Kaeppel', 'Shih', 'Payton', 'Wu', 'Dellucci', \"P'an\", 'Afanasyev', 'Matveyev', 'Philipp', 'Jenks', 'Todd', 'Rice', 'Ewen', 'Wakelin', 'Holman', 'Kornilova', 'Lock', 'Tate', 'Sun', 'Belonwu', 'Major', 'Allingham', 'Voronkov', 'Evans', 'Frolov', 'Ali', 'Nixon', 'Lynton', 'Avdeeva', 'Ngozichukwuka', 'Dalton', 'Bancks', 'Nina', 'Wimble', 'Nebechukwu', 'Zikoranachidimma', 'Jibunoh', 'Bruner', 'Maslov', 'Harris', 'Chimaoke', 'Sanderson', 'Pendergrass', 'Chiganu', 'Narelle', 'Bradbury', 'Ruggiero', 'Stelzer', 'Loton', 'Barnes', 'Dyer', 'Adams', 'Radcliffe-Brown', 'Law', 'Humphries', 'Reed', 'Royster', 'Brierly', 'Northey', 'Colombo', 'Zimmer', 'Lucciano', 'Landor', 'Su', 'Belisario', 'Royston', 'Madueke', 'Garmon', 'Outhwaite', 'Dolgorukova', 'Topp', 'Glazkov', 'Schofield', 'Ifeajuna', 'Boag', 'Gresswell', 'Montalvo', 'Birch', 'Ma', 'Nebeolisa', 'Donnelly', 'Riddle', 'Carlson', 'Butler', 'Cremonesi', 'Peel', 'Paterson', 'Chukwunonso', 'Dominguez', 'Sung', 'Esomchi', 'Pino', 'Ifeatu', 'Trout', 'Polyakova', 'Hartley', 'Sims', 'Larkin', 'Morrison', 'Grimmett', 'Page', 'Aiken', 'Parry-Okeden', 'Nwachinemelu', 'Langlands', 'Nicolay', 'Young', 'Wang', 'Sarratt', 'Iqbal', 'Moffitt', 'McMasters', 'Parrott', 'Coates', 'Wertheim', 'Mason', 'Woolacott', 'Tran', 'Yuriev', 'Lin', 'Rubeo', 'Ross-Watt', 'Woodward', 'Hysell', 'De Mestre', 'Trevascus', 'Ingrassia', 'Theus', 'Chao', 'Cashin', 'Rivera', 'Komarova', 'Nuttall', 'Savage', 'Cunningham', 'Blackwood', 'Chukwueloka', 'Denman', 'Fernando', 'Tilley', 'McGill', 'McCartney', 'Atkins', 'Montgomery', 'Hung', 'Brennan', 'Sadlier', 'Shillito', 'Skinner', 'Banks', 'Ashton', 'Nnachetam', 'Zubareva', 'Onwughara', 'Macarthur', 'Greathouse', 'Ubanwa', 'Badgery', 'Coles', 'Chimaraoke', 'Alexander', 'Ainsworth', 'Obialo', 'Gibbs', 'Percy', 'Renwick', 'Tardent', 'Alexeeva', 'Mays', 'Elkins', 'Lei', 'Woronoff', 'Butusov', 'Muravyov', 'Eluemuno', 'Sopuluchukwu', 'Krylov', 'Horsley', 'Mitchel', 'Calabresi', 'Utz', 'Ledford', 'Ershova', 'Edmund la Touche', 'Stirling', 'Chiu', 'Miah', 'Nelson', 'Maduabuchim', 'Crowther', 'Onwuamaegbu', 'Maslow', 'Faria', 'Cattaneo', 'Bevan', 'Longstaff', 'Beyer', 'Davide', 'Averyanov', 'Francis', 'Northern', 'Pankhurst', 'Mackay', 'Lorenzen', 'Toth', 'Humffray', 'Macvitie', 'Ingram', 'Batty', 'Mackinlay', 'Hale', 'John', 'Yuryeva', 'Pinto', 'Kulikova', 'Hutchinson', 'Philip', 'Wildman', 'Little', 'Akhtar', 'Kao', 'Chidumaga', 'Gallagher', 'Mashman', 'Clarke', 'Toscani', 'Archambault', 'Glauert', 'Nkemdilim', 'Sparks', 'Chiabuotu', 'Chan', 'Liang', 'Hooker', 'Denisova', 'Chien', 'Sidorov', 'Poninski', 'Maher', 'Schmidt', 'Parkes', 'Melendez', 'Taplin', 'Dipietro', 'Mack', 'Moran', 'Korovin', 'Chioke', 'Quinn', \"T'an\", 'Folliero', 'Horton', 'Marchesi', 'Nebechi', 'Hawks', 'Loane', 'Gosnell', 'French', 'Vidler', 'Pokrovsky', 'Moseley', 'Revell', 'Dulhunty', 'Cullen', 'Herrin', 'Rouse', 'Bryant', 'Bentley', 'Menkens', 'Chamberlain', 'Carpenter', 'Uren', \"P'eng\", 'Walters', 'Selezneva', 'McCall', 'Hobson', 'Carslaw', 'Golubova', 'Suttor', 'Selwyn', 'Chinomso', 'Campbell', 'Romeo', 'Clancy', 'Sherrod', 'Onyemachukwu', 'Ramsey', 'Conti', 'Denisov', 'Rowland', 'Barlow', 'Wentworth-Shields', 'Ampt', 'Yefimov', 'Nevzorova', 'Lay', 'Keane', 'Holmes', 'Wilder', 'Hovell', 'Younger', 'Trejo', 'Urban', 'Kumm', 'Butters', 'Cawthorne', 'Linton', 'Cribb', 'Rees', 'Beede', 'Maitland', 'Begum', 'Morgan', 'Carter', 'Fontenot', 'Millar', 'Whitehead', 'Reye', 'Ndukaku', 'Collier', 'Andrews', 'Charlton', 'Afanasyeva', 'Brient', 'Nnabuife', 'Hernandez', 'Stiger', \"O'Toole\", 'Holmwood', 'Kramer', 'Rawlings', 'Robb', 'Yefremova', 'Turnbull', 'Lumholtz', 'McCaffrey', 'Hayslett', 'Nnamutaezinwa', 'Y?an', 'Childs', 'Iweobiegbulam', 'Dickinson', 'Lambert', 'Ilyina', 'Brabyn', 'Bogdanova', 'Voss', 'Weston', 'Eberechukwu', 'Salter', 'Jimenez', 'Iheatu', 'Chifo', 'Esquivel', 'Rita', 'Cran', 'Skelton', 'Ogg', 'Tsai', 'Somayina', 'Hankinson', 'Vasin', 'Akabueze', 'Durant', 'Heard', 'Kelechi', 'Mann', 'Shahan', 'Chinonyelum', 'Fokina', 'Serra', 'Charteris', 'Persse', 'Spears', 'Chigolum', 'Disher', 'Chukwualuka', \"D'Albertis\", 'Webster', 'Ryan', 'Severson', 'Gilleland', 'Peck', 'Blakey', 'Cheatham', 'Redding', 'Brookman', 'Swain', 'Fane', 'Bull', 'Clayton', 'Artemiev', 'Anenechi', 'Monds', 'Mackey', 'McEwan', 'Napolitani', 'Hammer', 'Froggatt', 'Avent', 'Allen', 'Sheets', 'Wanliss', 'Mofflin', 'Sopuluchi', 'Carandini', 'Kung', 'Asher', 'Ross', 'Loggia', 'Swift', 'Flannagan', 'Goloubev', 'Whittaker', 'Shepherdson', 'Chukwukere', 'Briggs', 'Ulyanov', 'Ebelegbulam', 'Vogel', 'David', 'Groom', 'Smeaton', 'Bromley', 'Brigstocke', 'Uspensky', 'Udegbunam', 'Combs', 'Coburn', 'Solomon', 'Schatz', 'Fedorova', 'Chadwick', 'Obiuto', 'Lucchese', 'Steigrad', 'Reppert', 'Pisani', 'Miracle', 'Goering', 'Marshall', 'Glennon', 'Voronova', 'Kirillova', 'Nieves', 'Aksenov', 'Fleming', 'Gilbert', 'Gibbons', 'Bess', 'Larsen', 'Purdy', 'Tsui', 'Bayley', 'Nwabugwu', 'Silva', 'Obiajulu', 'Izmailova', 'Jen', 'Wisdom', 'Feng', 'Pai', 'Real', 'Ikedinachukwu', 'Shao', 'Samsonova', 'Akudinobi', 'Henry', 'Vanmeter', 'Tung', 'Stokes', 'Ignatyev', 'Chang', 'Fenton', 'Kenenna', 'Suffolk', 'Bennett', 'Parsons', 'Henning', 'Nott', 'Sinnett', 'Peyser', 'Phelan', 'Hussey', 'Fletcher', 'Macknight', 'Coffey', 'Kirby', 'Lanford', 'Buley', 'Fadden', 'Reyna', 'Blackburn', 'Russell', 'Pirozzi', 'Bischof', 'Willis', 'Marino', 'Hendrick', 'Rogova', 'Genovesi', 'Tyndall', 'Lattimore', 'Mahon', 'Nakayama', 'Olsen', 'Binder', 'Phillips', 'Palmer', 'Victor', 'Duncan', 'Hopkins', 'Volkov', 'Calzada', 'Wilkins', 'Fields', 'Hayden', 'Yocum', 'Etheridge', 'Ferreira', 'Winn', 'Hartzler', 'Buttenshaw', 'Flores', 'McElroy', 'She', 'Chukwumaobim', 'Barbour', 'Zhirov', 'Serena', 'Bird', 'Tobeolisa', 'Ozoemena', 'Barclay-Harvey', 'Burgin', 'Buckner', 'Haynes', 'Higinbotham', 'Hobbs', 'Chikezie', 'Takasuka', 'Howell-Price', 'Celis', 'Beneventi', 'Mickey', 'Guidry', 'Boylan', 'McCarthy', 'Carroll', 'Harper', 'Jennings', 'Gerasimov', 'Rapuluolisa', 'Davis', 'Aksyonova', 'Bermudez', 'Veale', 'Garrett', 'Watterston', 'Hassall', 'Larson', 'Lindell', 'Ansell', 'Shoebridge', 'Hull', 'Moore', 'Coppin', 'Gartrell', 'Iadanza', 'Rechner', 'Thao', 'Jose', 'Echezonachukwu', 'Nwokezuike', 'Chukwudi', 'Malloy', 'Geach', 'Vanzetti', 'Chapman', 'Ferguson', 'Fermin', 'Harker', 'Baresi', 'Chikere', 'Vale', 'Korff', 'Azuka', 'Milliner', 'Steiner', 'McGuigan', 'Logan', \"O'Callaghan\", 'Ecuyer', 'Omeokachie', 'Ifeanacho', 'Bradley', 'Williford', 'Uvarova', 'Glossop', 'McKay', 'Dickson', 'Morton', 'Miller', 'Hou', 'Onyeoruru', 'Beatham', 'Foster', 'Krischock', 'Dennis', 'Ahern', 'Bozeman', 'Tretiakov', 'Edments', 'Mancini', 'Jamieson', 'Bateson', 'Czajkowski', 'Kiernan', 'McKenzie', 'McEncroe', 'Ramos', 'Crotty', 'Milne', 'Ofodile', 'Trentini', 'Amies', 'Edith', 'Zarate', 'Favors', 'Barton', 'Shubina', 'Yudina', 'Mactier', \"O'Neill\", 'Giles', 'Trujillo', 'Neumann', \"Ch'iu\", 'Mullah', 'Musgrove', 'Donaldson', 'Ardis', 'Shipton', 'Christian', 'Macgroarty'}\n",
            "unique of Geography is 3 they are {'France', 'Germany', 'Spain'}\n",
            "unique of Gender is 2 they are {'Female', 'Male'}\n"
          ]
        }
      ]
    },
    {
      "cell_type": "code",
      "source": [
        "#6. Find the outliers and replace the outliers"
      ],
      "metadata": {
        "id": "9hyNEuN0p6To"
      },
      "id": "9hyNEuN0p6To",
      "execution_count": null,
      "outputs": []
    },
    {
      "cell_type": "code",
      "source": [
        "#Checking for outliers"
      ],
      "metadata": {
        "id": "a2YOBKtjp9o_"
      },
      "id": "a2YOBKtjp9o_",
      "execution_count": null,
      "outputs": []
    },
    {
      "cell_type": "code",
      "source": [
        "def box_scatter(data, x, y):    \n",
        "    fig, (ax1, ax2) = plt.subplots(nrows=2, ncols=1, figsize=(16,6))\n",
        "    sns.boxplot(data=data, x=x, ax=ax1)\n",
        "    sns.scatterplot(data=data, x=x,y=y,ax=ax2)"
      ],
      "metadata": {
        "id": "_WpPwH2xqDgI"
      },
      "id": "_WpPwH2xqDgI",
      "execution_count": null,
      "outputs": []
    },
    {
      "cell_type": "code",
      "source": [
        "box_scatter(df,'CreditScore','Exited');\n",
        "plt.tight_layout()\n",
        "print(f\"# of Bivariate Outliers: {len(df.loc[df['CreditScore'] < 400])}\")"
      ],
      "metadata": {
        "colab": {
          "base_uri": "https://localhost:8080/",
          "height": 458
        },
        "id": "HfnSaJSrqEJk",
        "outputId": "7b571e65-a0df-476d-cfc7-3464ee7e222b"
      },
      "id": "HfnSaJSrqEJk",
      "execution_count": null,
      "outputs": [
        {
          "output_type": "stream",
          "name": "stdout",
          "text": [
            "# of Bivariate Outliers: 19\n"
          ]
        },
        {
          "output_type": "display_data",
          "data": {
            "text/plain": [
              "<Figure size 1152x432 with 2 Axes>"
            ],
            "image/png": "[encoded data removed]"
          },
          "metadata": {
            "needs_background": "light"
          }
        }
      ]
    },
    {
      "cell_type": "code",
      "source": [
        "box_scatter(df,'Age','Exited');\n",
        "plt.tight_layout()\n",
        "print(f\"# of Bivariate Outliers: {len(df.loc[df['Age'] > 87])}\")"
      ],
      "metadata": {
        "colab": {
          "base_uri": "https://localhost:8080/",
          "height": 458
        },
        "id": "-HR5Qh6mqIMp",
        "outputId": "3f462b6a-f486-412f-cf45-b502e8d94364"
      },
      "id": "-HR5Qh6mqIMp",
      "execution_count": null,
      "outputs": [
        {
          "output_type": "stream",
          "name": "stdout",
          "text": [
            "# of Bivariate Outliers: 3\n"
          ]
        },
        {
          "output_type": "display_data",
          "data": {
            "text/plain": [
              "<Figure size 1152x432 with 2 Axes>"
            ],
            "image/png": "[encoded data removed]"
          },
          "metadata": {
            "needs_background": "light"
          }
        }
      ]
    },
    {
      "cell_type": "code",
      "source": [
        "box_scatter(df,'Balance','Exited');\n",
        "plt.tight_layout()\n",
        "print(f\"# of Bivariate Outliers: {len(df.loc[df['Balance'] > 220000])}\")"
      ],
      "metadata": {
        "colab": {
          "base_uri": "https://localhost:8080/",
          "height": 458
        },
        "id": "t7XRinx-qLXz",
        "outputId": "7e73fdd5-e7bc-42c5-88c7-3c9ccb3de23d"
      },
      "id": "t7XRinx-qLXz",
      "execution_count": null,
      "outputs": [
        {
          "output_type": "stream",
          "name": "stdout",
          "text": [
            "# of Bivariate Outliers: 4\n"
          ]
        },
        {
          "output_type": "display_data",
          "data": {
            "text/plain": [
              "<Figure size 1152x432 with 2 Axes>"
            ],
            "image/png": "[encoded data removed]"
          },
          "metadata": {
            "needs_background": "light"
          }
        }
      ]
    },
    {
      "cell_type": "code",
      "source": [
        "box_scatter(df,'EstimatedSalary','Exited');\n",
        "plt.tight_layout()"
      ],
      "metadata": {
        "colab": {
          "base_uri": "https://localhost:8080/",
          "height": 441
        },
        "id": "2oNNupGDqOVo",
        "outputId": "b4cdd3bf-f502-4550-800d-bbbb0ab916c1"
      },
      "id": "2oNNupGDqOVo",
      "execution_count": null,
      "outputs": [
        {
          "output_type": "display_data",
          "data": {
            "text/plain": [
              "<Figure size 1152x432 with 2 Axes>"
            ],
            "image/png": "[encoded data removed]"
          },
          "metadata": {
            "needs_background": "light"
          }
        }
      ]
    },
    {
      "cell_type": "code",
      "source": [
        "#Removing outliers"
      ],
      "metadata": {
        "id": "Yy7w_oRdqO7A"
      },
      "id": "Yy7w_oRdqO7A",
      "execution_count": null,
      "outputs": []
    },
    {
      "cell_type": "code",
      "source": [
        "for i in df:\n",
        "    if df[i].dtype=='int64' or df[i].dtypes=='float64':\n",
        "        q1=df[i].quantile(0.25)\n",
        "        q3=df[i].quantile(0.75)\n",
        "        iqr=q3-q1\n",
        "        upper=q3+1.5*iqr\n",
        "        lower=q1-1.5*iqr\n",
        "        df[i]=np.where(df[i] >upper, upper, df[i])\n",
        "        df[i]=np.where(df[i] <lower, lower, df[i])\n",
        "        "
      ],
      "metadata": {
        "id": "H7hsapDzqSx4"
      },
      "id": "H7hsapDzqSx4",
      "execution_count": null,
      "outputs": []
    },
    {
      "cell_type": "code",
      "source": [
        "#After removing outliers, boxplot will be like"
      ],
      "metadata": {
        "id": "v4M7iRPnqVdi"
      },
      "id": "v4M7iRPnqVdi",
      "execution_count": null,
      "outputs": []
    },
    {
      "cell_type": "code",
      "source": [
        "box_scatter(df,'CreditScore','Exited');\n",
        "plt.tight_layout()\n",
        "print(f\"# of Bivariate Outliers: {len(df.loc[df['CreditScore'] < 400])}\")"
      ],
      "metadata": {
        "colab": {
          "base_uri": "https://localhost:8080/",
          "height": 458
        },
        "id": "7F5P180mqa5A",
        "outputId": "8cd0bd66-1c5c-4c38-c07d-40440ff11697"
      },
      "id": "7F5P180mqa5A",
      "execution_count": null,
      "outputs": [
        {
          "output_type": "stream",
          "name": "stdout",
          "text": [
            "# of Bivariate Outliers: 19\n"
          ]
        },
        {
          "output_type": "display_data",
          "data": {
            "text/plain": [
              "<Figure size 1152x432 with 2 Axes>"
            ],
            "image/png": "[encoded data removed]"
          },
          "metadata": {
            "needs_background": "light"
          }
        }
      ]
    },
    {
      "cell_type": "code",
      "source": [
        "box_scatter(df,'Age','Exited');\n",
        "plt.tight_layout()\n",
        "print(f\"# of Bivariate Outliers: {len(df.loc[df['Age'] > 87])}\")"
      ],
      "metadata": {
        "colab": {
          "base_uri": "https://localhost:8080/",
          "height": 458
        },
        "id": "J7YgpPHHqdxI",
        "outputId": "d567e8bf-4c3d-40d8-f354-c15d16749781"
      },
      "id": "J7YgpPHHqdxI",
      "execution_count": null,
      "outputs": [
        {
          "output_type": "stream",
          "name": "stdout",
          "text": [
            "# of Bivariate Outliers: 0\n"
          ]
        },
        {
          "output_type": "display_data",
          "data": {
            "text/plain": [
              "<Figure size 1152x432 with 2 Axes>"
            ],
            "image/png": "[encoded data removed]"
          },
          "metadata": {
            "needs_background": "light"
          }
        }
      ]
    },
    {
      "cell_type": "code",
      "source": [
        "box_scatter(df,'Balance','Exited');\n",
        "plt.tight_layout()\n",
        "print(f\"# of Bivariate Outliers: {len(df.loc[df['Balance'] > 220000])}\")"
      ],
      "metadata": {
        "colab": {
          "base_uri": "https://localhost:8080/",
          "height": 458
        },
        "id": "aVWdRuxjqgbi",
        "outputId": "bfece200-c4e7-46d3-f218-948210a129e2"
      },
      "id": "aVWdRuxjqgbi",
      "execution_count": null,
      "outputs": [
        {
          "output_type": "stream",
          "name": "stdout",
          "text": [
            "# of Bivariate Outliers: 4\n"
          ]
        },
        {
          "output_type": "display_data",
          "data": {
            "text/plain": [
              "<Figure size 1152x432 with 2 Axes>"
            ],
            "image/png": "[encoded data removed]"
          },
          "metadata": {
            "needs_background": "light"
          }
        }
      ]
    },
    {
      "cell_type": "code",
      "source": [
        "#7. Check for Categorical columns and perform encoding."
      ],
      "metadata": {
        "id": "OVXymPShqjPY"
      },
      "id": "OVXymPShqjPY",
      "execution_count": null,
      "outputs": []
    },
    {
      "cell_type": "code",
      "source": [
        "from sklearn.preprocessing import LabelEncoder\n",
        "encoder=LabelEncoder()\n",
        "for i in df:\n",
        "    if df[i].dtype=='object' or df[i].dtype=='category':\n",
        "        df[i]=encoder.fit_transform(df[i])"
      ],
      "metadata": {
        "id": "id77JKeqqlw6"
      },
      "id": "id77JKeqqlw6",
      "execution_count": null,
      "outputs": []
    },
    {
      "cell_type": "code",
      "source": [
        "#8. Split the data into dependent and independent variables."
      ],
      "metadata": {
        "id": "anpYauLZqngf"
      },
      "id": "anpYauLZqngf",
      "execution_count": null,
      "outputs": []
    },
    {
      "cell_type": "code",
      "source": [
        "x=df.iloc[:,:-1]\n",
        "x.head()"
      ],
      "metadata": {
        "colab": {
          "base_uri": "https://localhost:8080/",
          "height": 206
        },
        "id": "CiMv99giqpMv",
        "outputId": "5ae7da3a-0b83-4fcd-f82f-a71354c02509"
      },
      "id": "CiMv99giqpMv",
      "execution_count": null,
      "outputs": [
        {
          "output_type": "execute_result",
          "data": {
            "text/plain": [
              "   RowNumber  CustomerId  Surname  CreditScore  Geography  Gender   Age  \\\n",
              "0        1.0  15634602.0     1115        619.0          0       0  42.0   \n",
              "1        2.0  15647311.0     1177        608.0          2       0  41.0   \n",
              "2        3.0  15619304.0     2040        502.0          0       0  42.0   \n",
              "3        4.0  15701354.0      289        699.0          0       0  39.0   \n",
              "4        5.0  15737888.0     1822        850.0          2       0  43.0   \n",
              "\n",
              "   Tenure    Balance  NumOfProducts  HasCrCard  IsActiveMember  \\\n",
              "0     2.0       0.00            1.0        1.0             1.0   \n",
              "1     1.0   83807.86            1.0        0.0             1.0   \n",
              "2     8.0  159660.80            3.0        1.0             0.0   \n",
              "3     1.0       0.00            2.0        0.0             0.0   \n",
              "4     2.0  125510.82            1.0        1.0             1.0   \n",
              "\n",
              "   EstimatedSalary  \n",
              "0        101348.88  \n",
              "1        112542.58  \n",
              "2        113931.57  \n",
              "3         93826.63  \n",
              "4         79084.10  "
            ],
            "text/html": [
              "\n",
              "  <div id=\"df-4c113a3a-7f16-4959-a243-87cf1d308a13\">\n",
              "    <div class=\"colab-df-container\">\n",
              "      <div>\n",
              "<style scoped>\n",
              "    .dataframe tbody tr th:only-of-type {\n",
              "        vertical-align: middle;\n",
              "    }\n",
              "\n",
              "    .dataframe tbody tr th {\n",
              "        vertical-align: top;\n",
              "    }\n",
              "\n",
              "    .dataframe thead th {\n",
              "        text-align: right;\n",
              "    }\n",
              "</style>\n",
              "<table border=\"1\" class=\"dataframe\">\n",
              "  <thead>\n",
              "    <tr style=\"text-align: right;\">\n",
              "      <th></th>\n",
              "      <th>RowNumber</th>\n",
              "      <th>CustomerId</th>\n",
              "      <th>Surname</th>\n",
              "      <th>CreditScore</th>\n",
              "      <th>Geography</th>\n",
              "      <th>Gender</th>\n",
              "      <th>Age</th>\n",
              "      <th>Tenure</th>\n",
              "      <th>Balance</th>\n",
              "      <th>NumOfProducts</th>\n",
              "      <th>HasCrCard</th>\n",
              "      <th>IsActiveMember</th>\n",
              "      <th>EstimatedSalary</th>\n",
              "    </tr>\n",
              "  </thead>\n",
              "  <tbody>\n",
              "    <tr>\n",
              "      <th>0</th>\n",
              "      <td>1.0</td>\n",
              "      <td>15634602.0</td>\n",
              "      <td>1115</td>\n",
              "      <td>619.0</td>\n",
              "      <td>0</td>\n",
              "      <td>0</td>\n",
              "      <td>42.0</td>\n",
              "      <td>2.0</td>\n",
              "      <td>0.00</td>\n",
              "      <td>1.0</td>\n",
              "      <td>1.0</td>\n",
              "      <td>1.0</td>\n",
              "      <td>101348.88</td>\n",
              "    </tr>\n",
              "    <tr>\n",
              "      <th>1</th>\n",
              "      <td>2.0</td>\n",
              "      <td>15647311.0</td>\n",
              "      <td>1177</td>\n",
              "      <td>608.0</td>\n",
              "      <td>2</td>\n",
              "      <td>0</td>\n",
              "      <td>41.0</td>\n",
              "      <td>1.0</td>\n",
              "      <td>83807.86</td>\n",
              "      <td>1.0</td>\n",
              "      <td>0.0</td>\n",
              "      <td>1.0</td>\n",
              "      <td>112542.58</td>\n",
              "    </tr>\n",
              "    <tr>\n",
              "      <th>2</th>\n",
              "      <td>3.0</td>\n",
              "      <td>15619304.0</td>\n",
              "      <td>2040</td>\n",
              "      <td>502.0</td>\n",
              "      <td>0</td>\n",
              "      <td>0</td>\n",
              "      <td>42.0</td>\n",
              "      <td>8.0</td>\n",
              "      <td>159660.80</td>\n",
              "      <td>3.0</td>\n",
              "      <td>1.0</td>\n",
              "      <td>0.0</td>\n",
              "      <td>113931.57</td>\n",
              "    </tr>\n",
              "    <tr>\n",
              "      <th>3</th>\n",
              "      <td>4.0</td>\n",
              "      <td>15701354.0</td>\n",
              "      <td>289</td>\n",
              "      <td>699.0</td>\n",
              "      <td>0</td>\n",
              "      <td>0</td>\n",
              "      <td>39.0</td>\n",
              "      <td>1.0</td>\n",
              "      <td>0.00</td>\n",
              "      <td>2.0</td>\n",
              "      <td>0.0</td>\n",
              "      <td>0.0</td>\n",
              "      <td>93826.63</td>\n",
              "    </tr>\n",
              "    <tr>\n",
              "      <th>4</th>\n",
              "      <td>5.0</td>\n",
              "      <td>15737888.0</td>\n",
              "      <td>1822</td>\n",
              "      <td>850.0</td>\n",
              "      <td>2</td>\n",
              "      <td>0</td>\n",
              "      <td>43.0</td>\n",
              "      <td>2.0</td>\n",
              "      <td>125510.82</td>\n",
              "      <td>1.0</td>\n",
              "      <td>1.0</td>\n",
              "      <td>1.0</td>\n",
              "      <td>79084.10</td>\n",
              "    </tr>\n",
              "  </tbody>\n",
              "</table>\n",
              "</div>\n",
              "      <button class=\"colab-df-convert\" onclick=\"convertToInteractive('df-4c113a3a-7f16-4959-a243-87cf1d308a13')\"\n",
              "              title=\"Convert this dataframe to an interactive table.\"\n",
              "              style=\"display:none;\">\n",
              "        \n",
              "  <svg xmlns=\"http://www.w3.org/2000/svg\" height=\"24px\"viewBox=\"0 0 24 24\"\n",
              "       width=\"24px\">\n",
              "    <path d=\"M0 0h24v24H0V0z\" fill=\"none\"/>\n",
              "    <path d=\"M18.56 5.44l.94 2.06.94-2.06 2.06-.94-2.06-.94-.94-2.06-.94 2.06-2.06.94zm-11 1L8.5 8.5l.94-2.06 2.06-.94-2.06-.94L8.5 2.5l-.94 2.06-2.06.94zm10 10l.94 2.06.94-2.06 2.06-.94-2.06-.94-.94-2.06-.94 2.06-2.06.94z\"/><path d=\"M17.41 7.96l-1.37-1.37c-.4-.4-.92-.59-1.43-.59-.52 0-1.04.2-1.43.59L10.3 9.45l-7.72 7.72c-.78.78-.78 2.05 0 2.83L4 21.41c.39.39.9.59 1.41.59.51 0 1.02-.2 1.41-.59l7.78-7.78 2.81-2.81c.8-.78.8-2.07 0-2.86zM5.41 20L4 18.59l7.72-7.72 1.47 1.35L5.41 20z\"/>\n",
              "  </svg>\n",
              "      </button>\n",
              "      \n",
              "  <style>\n",
              "    .colab-df-container {\n",
              "      display:flex;\n",
              "      flex-wrap:wrap;\n",
              "      gap: 12px;\n",
              "    }\n",
              "\n",
              "    .colab-df-convert {\n",
              "      background-color: #E8F0FE;\n",
              "      border: none;\n",
              "      border-radius: 50%;\n",
              "      cursor: pointer;\n",
              "      display: none;\n",
              "      fill: #1967D2;\n",
              "      height: 32px;\n",
              "      padding: 0 0 0 0;\n",
              "      width: 32px;\n",
              "    }\n",
              "\n",
              "    .colab-df-convert:hover {\n",
              "      background-color: #E2EBFA;\n",
              "      box-shadow: 0px 1px 2px rgba(60, 64, 67, 0.3), 0px 1px 3px 1px rgba(60, 64, 67, 0.15);\n",
              "      fill: #174EA6;\n",
              "    }\n",
              "\n",
              "    [theme=dark] .colab-df-convert {\n",
              "      background-color: #3B4455;\n",
              "      fill: #D2E3FC;\n",
              "    }\n",
              "\n",
              "    [theme=dark] .colab-df-convert:hover {\n",
              "      background-color: #434B5C;\n",
              "      box-shadow: 0px 1px 3px 1px rgba(0, 0, 0, 0.15);\n",
              "      filter: drop-shadow(0px 1px 2px rgba(0, 0, 0, 0.3));\n",
              "      fill: #FFFFFF;\n",
              "    }\n",
              "  </style>\n",
              "\n",
              "      <script>\n",
              "        const buttonEl =\n",
              "          document.querySelector('#df-4c113a3a-7f16-4959-a243-87cf1d308a13 button.colab-df-convert');\n",
              "        buttonEl.style.display =\n",
              "          google.colab.kernel.accessAllowed ? 'block' : 'none';\n",
              "\n",
              "        async function convertToInteractive(key) {\n",
              "          const element = document.querySelector('#df-4c113a3a-7f16-4959-a243-87cf1d308a13');\n",
              "          const dataTable =\n",
              "            await google.colab.kernel.invokeFunction('convertToInteractive',\n",
              "                                                     [key], {});\n",
              "          if (!dataTable) return;\n",
              "\n",
              "          const docLinkHtml = 'Like what you see? Visit the ' +\n",
              "            '<a target=\"_blank\" href=https://colab.research.google.com/notebooks/data_table.ipynb>data table notebook</a>'\n",
              "            + ' to learn more about interactive tables.';\n",
              "          element.innerHTML = '';\n",
              "          dataTable['output_type'] = 'display_data';\n",
              "          await google.colab.output.renderOutput(dataTable, element);\n",
              "          const docLink = document.createElement('div');\n",
              "          docLink.innerHTML = docLinkHtml;\n",
              "          element.appendChild(docLink);\n",
              "        }\n",
              "      </script>\n",
              "    </div>\n",
              "  </div>\n",
              "  "
            ]
          },
          "metadata": {},
          "execution_count": 54
        }
      ]
    },
    {
      "cell_type": "code",
      "source": [
        "y=df.iloc[:,-1]\n",
        "y.head()"
      ],
      "metadata": {
        "colab": {
          "base_uri": "https://localhost:8080/"
        },
        "id": "EEKeRiiLqux3",
        "outputId": "a96ee6e1-50b2-4aa1-fc9e-fc96d5ce82e8"
      },
      "id": "EEKeRiiLqux3",
      "execution_count": null,
      "outputs": [
        {
          "output_type": "execute_result",
          "data": {
            "text/plain": [
              "0    0.0\n",
              "1    0.0\n",
              "2    0.0\n",
              "3    0.0\n",
              "4    0.0\n",
              "Name: Exited, dtype: float64"
            ]
          },
          "metadata": {},
          "execution_count": 55
        }
      ]
    },
    {
      "cell_type": "code",
      "source": [
        "#9. Scale the independent variables"
      ],
      "metadata": {
        "id": "JSdyv8-zqxqv"
      },
      "id": "JSdyv8-zqxqv",
      "execution_count": null,
      "outputs": []
    },
    {
      "cell_type": "code",
      "source": [
        "from sklearn.preprocessing import StandardScaler\n",
        "scaler=StandardScaler()\n",
        "x=scaler.fit_transform(x)"
      ],
      "metadata": {
        "id": "tcIlLX-bqzHH"
      },
      "id": "tcIlLX-bqzHH",
      "execution_count": null,
      "outputs": []
    },
    {
      "cell_type": "code",
      "source": [
        "x"
      ],
      "metadata": {
        "colab": {
          "base_uri": "https://localhost:8080/"
        },
        "id": "FF2HIF9qq6d3",
        "outputId": "97d9f81f-0c56-4911-d235-a8c467286f22"
      },
      "id": "FF2HIF9qq6d3",
      "execution_count": null,
      "outputs": [
        {
          "output_type": "execute_result",
          "data": {
            "text/plain": [
              "array([[-1.73187761, -0.78321342, -0.46418322, ...,  0.64609167,\n",
              "         0.97024255,  0.02188649],\n",
              "       [-1.7315312 , -0.60653412, -0.3909112 , ..., -1.54776799,\n",
              "         0.97024255,  0.21653375],\n",
              "       [-1.73118479, -0.99588476,  0.62898807, ...,  0.64609167,\n",
              "        -1.03067011,  0.2406869 ],\n",
              "       ...,\n",
              "       [ 1.73118479, -1.47928179,  0.07353887, ..., -1.54776799,\n",
              "         0.97024255, -1.00864308],\n",
              "       [ 1.7315312 , -0.11935577,  0.98943914, ...,  0.64609167,\n",
              "        -1.03067011, -0.12523071],\n",
              "       [ 1.73187761, -0.87055909,  1.4692527 , ...,  0.64609167,\n",
              "        -1.03067011, -1.07636976]])"
            ]
          },
          "metadata": {},
          "execution_count": 58
        }
      ]
    },
    {
      "cell_type": "code",
      "source": [
        "#10. Split the data into training and testing"
      ],
      "metadata": {
        "id": "2yjJ390krTDg"
      },
      "id": "2yjJ390krTDg",
      "execution_count": null,
      "outputs": []
    },
    {
      "cell_type": "code",
      "source": [
        "from sklearn.model_selection import train_test_split\n",
        "x_train,x_test,y_train,y_test=train_test_split(x,y,test_size=0.33)\n",
        "\n"
      ],
      "metadata": {
        "id": "v8QdoSckrGz2"
      },
      "id": "v8QdoSckrGz2",
      "execution_count": null,
      "outputs": []
    },
    {
      "cell_type": "code",
      "execution_count": null,
      "id": "03571853",
      "metadata": {
        "id": "03571853",
        "outputId": "9c6ed745-8d23-4cf3-f00c-bdf9688353fa",
        "colab": {
          "base_uri": "https://localhost:8080/"
        }
      },
      "outputs": [
        {
          "output_type": "execute_result",
          "data": {
            "text/plain": [
              "array([[ 1.42565103,  0.02831026, -0.26327606, ..., -1.54776799,\n",
              "        -1.03067011, -0.391208  ],\n",
              "       [ 0.60777663, -0.03969785,  1.49170703, ..., -1.54776799,\n",
              "         0.97024255, -1.14755267],\n",
              "       [-0.04382089,  0.15843209,  1.12298331, ...,  0.64609167,\n",
              "         0.97024255, -0.44810568],\n",
              "       ...,\n",
              "       [-0.70477148, -0.50556458,  0.64671517, ...,  0.64609167,\n",
              "        -1.03067011,  1.30118798],\n",
              "       [ 0.90984629,  1.23234033,  0.61835181, ...,  0.64609167,\n",
              "        -1.03067011, -1.28401042],\n",
              "       [ 0.61331919,  1.72876344, -0.20654934, ...,  0.64609167,\n",
              "        -1.03067011,  0.35072171]])"
            ]
          },
          "metadata": {},
          "execution_count": 62
        }
      ],
      "source": [
        "x_train"
      ]
    },
    {
      "cell_type": "code",
      "execution_count": null,
      "id": "786b237e",
      "metadata": {
        "id": "786b237e",
        "outputId": "c354f846-8633-4c65-b5cb-c52a3c66102c",
        "colab": {
          "base_uri": "https://localhost:8080/"
        }
      },
      "outputs": [
        {
          "output_type": "execute_result",
          "data": {
            "text/plain": [
              "(6700, 13)"
            ]
          },
          "metadata": {},
          "execution_count": 63
        }
      ],
      "source": [
        "x_train.shape"
      ]
    },
    {
      "cell_type": "code",
      "execution_count": null,
      "id": "059721bf",
      "metadata": {
        "id": "059721bf",
        "outputId": "a8c86807-5c26-4ccf-eec5-b5395917c2e7",
        "colab": {
          "base_uri": "https://localhost:8080/"
        }
      },
      "outputs": [
        {
          "output_type": "execute_result",
          "data": {
            "text/plain": [
              "(6700,)"
            ]
          },
          "metadata": {},
          "execution_count": 64
        }
      ],
      "source": [
        "y_train.shape"
      ]
    },
    {
      "cell_type": "code",
      "execution_count": null,
      "id": "29add93c",
      "metadata": {
        "id": "29add93c",
        "outputId": "3aaae5c9-a991-4ba1-c397-fe63dc7c1628",
        "colab": {
          "base_uri": "https://localhost:8080/"
        }
      },
      "outputs": [
        {
          "output_type": "execute_result",
          "data": {
            "text/plain": [
              "array([[ 0.34450491,  0.76633458,  0.07708429, ...,  0.64609167,\n",
              "         0.97024255, -1.30923126],\n",
              "       [-1.5680256 , -0.12839201, -0.7749984 , ...,  0.64609167,\n",
              "        -1.03067011, -0.39749464],\n",
              "       [ 0.55754716,  1.04412244,  1.22461869, ...,  0.64609167,\n",
              "         0.97024255, -0.50342774],\n",
              "       ...,\n",
              "       [-0.47510154, -1.63516385, -1.62353568, ..., -1.54776799,\n",
              "        -1.03067011,  1.69261751],\n",
              "       [ 1.30856439,  0.44657687, -0.10491395, ...,  0.64609167,\n",
              "        -1.03067011, -1.36037561],\n",
              "       [-1.64388943, -0.34902914, -1.24063028, ..., -1.54776799,\n",
              "        -1.03067011,  1.33240141]])"
            ]
          },
          "metadata": {},
          "execution_count": 65
        }
      ],
      "source": [
        "x_test"
      ]
    },
    {
      "cell_type": "code",
      "execution_count": null,
      "id": "2b74a124",
      "metadata": {
        "id": "2b74a124",
        "outputId": "530fa0d3-088a-4faf-f70e-7feb80e9cb32",
        "colab": {
          "base_uri": "https://localhost:8080/"
        }
      },
      "outputs": [
        {
          "output_type": "execute_result",
          "data": {
            "text/plain": [
              "(3300, 13)"
            ]
          },
          "metadata": {},
          "execution_count": 66
        }
      ],
      "source": [
        "x_test.shape"
      ]
    }
  ],
  "metadata": {
    "kernelspec": {
      "display_name": "Python 3",
      "language": "python",
      "name": "python3"
    },
    "language_info": {
      "codemirror_mode": {
        "name": "ipython",
        "version": 3
      },
      "file_extension": ".py",
      "mimetype": "text/x-python",
      "name": "python",
      "nbconvert_exporter": "python",
      "pygments_lexer": "ipython3",
      "version": "3.8.8"
    },
    "colab": {
      "provenance": [],
      "collapsed_sections": []
    }
  },
  "nbformat": 4,
  "nbformat_minor": 5
}